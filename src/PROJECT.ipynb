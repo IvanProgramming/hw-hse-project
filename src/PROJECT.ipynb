{
  "nbformat": 4,
  "nbformat_minor": 0,
  "metadata": {
    "colab": {
      "provenance": [],
      "collapsed_sections": [
        "vFItIiYO4OY-",
        "YYGtOEem4UNI",
        "I3GquP_94WwD",
        "yTZde-wp5FQz",
        "hz89sdgNyT8s"
      ]
    },
    "kernelspec": {
      "name": "python3",
      "display_name": "Python 3"
    },
    "language_info": {
      "name": "python"
    },
    "widgets": {
      "application/vnd.jupyter.widget-state+json": {
        "369bdd06ddb840ccacf04a2e65c9f4b0": {
          "model_module": "@jupyter-widgets/controls",
          "model_name": "HBoxModel",
          "model_module_version": "1.5.0",
          "state": {
            "_dom_classes": [],
            "_model_module": "@jupyter-widgets/controls",
            "_model_module_version": "1.5.0",
            "_model_name": "HBoxModel",
            "_view_count": null,
            "_view_module": "@jupyter-widgets/controls",
            "_view_module_version": "1.5.0",
            "_view_name": "HBoxView",
            "box_style": "",
            "children": [
              "IPY_MODEL_0071243b9b1345a4ae56cf7826e34149",
              "IPY_MODEL_1d6b114522fb4747a77d433089826546",
              "IPY_MODEL_abcc4078bf454a5d98adf9302c445919"
            ],
            "layout": "IPY_MODEL_0908bc9b40cb4f8e9d7135a71f372b72"
          }
        },
        "0071243b9b1345a4ae56cf7826e34149": {
          "model_module": "@jupyter-widgets/controls",
          "model_name": "HTMLModel",
          "model_module_version": "1.5.0",
          "state": {
            "_dom_classes": [],
            "_model_module": "@jupyter-widgets/controls",
            "_model_module_version": "1.5.0",
            "_model_name": "HTMLModel",
            "_view_count": null,
            "_view_module": "@jupyter-widgets/controls",
            "_view_module_version": "1.5.0",
            "_view_name": "HTMLView",
            "description": "",
            "description_tooltip": null,
            "layout": "IPY_MODEL_560e026a58214242b683f7788183f33c",
            "placeholder": "​",
            "style": "IPY_MODEL_f8a9b7dca9514ab599251b5bdff6b520",
            "value": "Scanning genome:   0%"
          }
        },
        "1d6b114522fb4747a77d433089826546": {
          "model_module": "@jupyter-widgets/controls",
          "model_name": "FloatProgressModel",
          "model_module_version": "1.5.0",
          "state": {
            "_dom_classes": [],
            "_model_module": "@jupyter-widgets/controls",
            "_model_module_version": "1.5.0",
            "_model_name": "FloatProgressModel",
            "_view_count": null,
            "_view_module": "@jupyter-widgets/controls",
            "_view_module_version": "1.5.0",
            "_view_name": "ProgressView",
            "bar_style": "",
            "description": "",
            "description_tooltip": null,
            "layout": "IPY_MODEL_854ea888f79b4ffdad3b2dff664edd8c",
            "max": 10,
            "min": 0,
            "orientation": "horizontal",
            "style": "IPY_MODEL_fd0b155ca1fe4adb87a965611a3bea48",
            "value": 0
          }
        },
        "abcc4078bf454a5d98adf9302c445919": {
          "model_module": "@jupyter-widgets/controls",
          "model_name": "HTMLModel",
          "model_module_version": "1.5.0",
          "state": {
            "_dom_classes": [],
            "_model_module": "@jupyter-widgets/controls",
            "_model_module_version": "1.5.0",
            "_model_name": "HTMLModel",
            "_view_count": null,
            "_view_module": "@jupyter-widgets/controls",
            "_view_module_version": "1.5.0",
            "_view_name": "HTMLView",
            "description": "",
            "description_tooltip": null,
            "layout": "IPY_MODEL_4da3847375a14ae79f7643a8cf03d831",
            "placeholder": "​",
            "style": "IPY_MODEL_2943a00d6d9642728f0dc3c82ce3a94e",
            "value": " 0/10 [00:00&lt;?, ?it/s]"
          }
        },
        "0908bc9b40cb4f8e9d7135a71f372b72": {
          "model_module": "@jupyter-widgets/base",
          "model_name": "LayoutModel",
          "model_module_version": "1.2.0",
          "state": {
            "_model_module": "@jupyter-widgets/base",
            "_model_module_version": "1.2.0",
            "_model_name": "LayoutModel",
            "_view_count": null,
            "_view_module": "@jupyter-widgets/base",
            "_view_module_version": "1.2.0",
            "_view_name": "LayoutView",
            "align_content": null,
            "align_items": null,
            "align_self": null,
            "border": null,
            "bottom": null,
            "display": null,
            "flex": null,
            "flex_flow": null,
            "grid_area": null,
            "grid_auto_columns": null,
            "grid_auto_flow": null,
            "grid_auto_rows": null,
            "grid_column": null,
            "grid_gap": null,
            "grid_row": null,
            "grid_template_areas": null,
            "grid_template_columns": null,
            "grid_template_rows": null,
            "height": null,
            "justify_content": null,
            "justify_items": null,
            "left": null,
            "margin": null,
            "max_height": null,
            "max_width": null,
            "min_height": null,
            "min_width": null,
            "object_fit": null,
            "object_position": null,
            "order": null,
            "overflow": null,
            "overflow_x": null,
            "overflow_y": null,
            "padding": null,
            "right": null,
            "top": null,
            "visibility": null,
            "width": null
          }
        },
        "560e026a58214242b683f7788183f33c": {
          "model_module": "@jupyter-widgets/base",
          "model_name": "LayoutModel",
          "model_module_version": "1.2.0",
          "state": {
            "_model_module": "@jupyter-widgets/base",
            "_model_module_version": "1.2.0",
            "_model_name": "LayoutModel",
            "_view_count": null,
            "_view_module": "@jupyter-widgets/base",
            "_view_module_version": "1.2.0",
            "_view_name": "LayoutView",
            "align_content": null,
            "align_items": null,
            "align_self": null,
            "border": null,
            "bottom": null,
            "display": null,
            "flex": null,
            "flex_flow": null,
            "grid_area": null,
            "grid_auto_columns": null,
            "grid_auto_flow": null,
            "grid_auto_rows": null,
            "grid_column": null,
            "grid_gap": null,
            "grid_row": null,
            "grid_template_areas": null,
            "grid_template_columns": null,
            "grid_template_rows": null,
            "height": null,
            "justify_content": null,
            "justify_items": null,
            "left": null,
            "margin": null,
            "max_height": null,
            "max_width": null,
            "min_height": null,
            "min_width": null,
            "object_fit": null,
            "object_position": null,
            "order": null,
            "overflow": null,
            "overflow_x": null,
            "overflow_y": null,
            "padding": null,
            "right": null,
            "top": null,
            "visibility": null,
            "width": null
          }
        },
        "f8a9b7dca9514ab599251b5bdff6b520": {
          "model_module": "@jupyter-widgets/controls",
          "model_name": "DescriptionStyleModel",
          "model_module_version": "1.5.0",
          "state": {
            "_model_module": "@jupyter-widgets/controls",
            "_model_module_version": "1.5.0",
            "_model_name": "DescriptionStyleModel",
            "_view_count": null,
            "_view_module": "@jupyter-widgets/base",
            "_view_module_version": "1.2.0",
            "_view_name": "StyleView",
            "description_width": ""
          }
        },
        "854ea888f79b4ffdad3b2dff664edd8c": {
          "model_module": "@jupyter-widgets/base",
          "model_name": "LayoutModel",
          "model_module_version": "1.2.0",
          "state": {
            "_model_module": "@jupyter-widgets/base",
            "_model_module_version": "1.2.0",
            "_model_name": "LayoutModel",
            "_view_count": null,
            "_view_module": "@jupyter-widgets/base",
            "_view_module_version": "1.2.0",
            "_view_name": "LayoutView",
            "align_content": null,
            "align_items": null,
            "align_self": null,
            "border": null,
            "bottom": null,
            "display": null,
            "flex": null,
            "flex_flow": null,
            "grid_area": null,
            "grid_auto_columns": null,
            "grid_auto_flow": null,
            "grid_auto_rows": null,
            "grid_column": null,
            "grid_gap": null,
            "grid_row": null,
            "grid_template_areas": null,
            "grid_template_columns": null,
            "grid_template_rows": null,
            "height": null,
            "justify_content": null,
            "justify_items": null,
            "left": null,
            "margin": null,
            "max_height": null,
            "max_width": null,
            "min_height": null,
            "min_width": null,
            "object_fit": null,
            "object_position": null,
            "order": null,
            "overflow": null,
            "overflow_x": null,
            "overflow_y": null,
            "padding": null,
            "right": null,
            "top": null,
            "visibility": null,
            "width": null
          }
        },
        "fd0b155ca1fe4adb87a965611a3bea48": {
          "model_module": "@jupyter-widgets/controls",
          "model_name": "ProgressStyleModel",
          "model_module_version": "1.5.0",
          "state": {
            "_model_module": "@jupyter-widgets/controls",
            "_model_module_version": "1.5.0",
            "_model_name": "ProgressStyleModel",
            "_view_count": null,
            "_view_module": "@jupyter-widgets/base",
            "_view_module_version": "1.2.0",
            "_view_name": "StyleView",
            "bar_color": null,
            "description_width": ""
          }
        },
        "4da3847375a14ae79f7643a8cf03d831": {
          "model_module": "@jupyter-widgets/base",
          "model_name": "LayoutModel",
          "model_module_version": "1.2.0",
          "state": {
            "_model_module": "@jupyter-widgets/base",
            "_model_module_version": "1.2.0",
            "_model_name": "LayoutModel",
            "_view_count": null,
            "_view_module": "@jupyter-widgets/base",
            "_view_module_version": "1.2.0",
            "_view_name": "LayoutView",
            "align_content": null,
            "align_items": null,
            "align_self": null,
            "border": null,
            "bottom": null,
            "display": null,
            "flex": null,
            "flex_flow": null,
            "grid_area": null,
            "grid_auto_columns": null,
            "grid_auto_flow": null,
            "grid_auto_rows": null,
            "grid_column": null,
            "grid_gap": null,
            "grid_row": null,
            "grid_template_areas": null,
            "grid_template_columns": null,
            "grid_template_rows": null,
            "height": null,
            "justify_content": null,
            "justify_items": null,
            "left": null,
            "margin": null,
            "max_height": null,
            "max_width": null,
            "min_height": null,
            "min_width": null,
            "object_fit": null,
            "object_position": null,
            "order": null,
            "overflow": null,
            "overflow_x": null,
            "overflow_y": null,
            "padding": null,
            "right": null,
            "top": null,
            "visibility": null,
            "width": null
          }
        },
        "2943a00d6d9642728f0dc3c82ce3a94e": {
          "model_module": "@jupyter-widgets/controls",
          "model_name": "DescriptionStyleModel",
          "model_module_version": "1.5.0",
          "state": {
            "_model_module": "@jupyter-widgets/controls",
            "_model_module_version": "1.5.0",
            "_model_name": "DescriptionStyleModel",
            "_view_count": null,
            "_view_module": "@jupyter-widgets/base",
            "_view_module_version": "1.2.0",
            "_view_name": "StyleView",
            "description_width": ""
          }
        },
        "e61f93079909471397679226d0b9fb39": {
          "model_module": "@jupyter-widgets/controls",
          "model_name": "HBoxModel",
          "model_module_version": "1.5.0",
          "state": {
            "_dom_classes": [],
            "_model_module": "@jupyter-widgets/controls",
            "_model_module_version": "1.5.0",
            "_model_name": "HBoxModel",
            "_view_count": null,
            "_view_module": "@jupyter-widgets/controls",
            "_view_module_version": "1.5.0",
            "_view_name": "HBoxView",
            "box_style": "",
            "children": [
              "IPY_MODEL_8cdd59cd2ca94f219571e14756400e38",
              "IPY_MODEL_d642fddb1fca4f558b6a8396f8e4a61f",
              "IPY_MODEL_1e311624186d46fea41b172ff5bcef0a"
            ],
            "layout": "IPY_MODEL_d8386262d8db4db5980a5ebe878d2371"
          }
        },
        "8cdd59cd2ca94f219571e14756400e38": {
          "model_module": "@jupyter-widgets/controls",
          "model_name": "HTMLModel",
          "model_module_version": "1.5.0",
          "state": {
            "_dom_classes": [],
            "_model_module": "@jupyter-widgets/controls",
            "_model_module_version": "1.5.0",
            "_model_name": "HTMLModel",
            "_view_count": null,
            "_view_module": "@jupyter-widgets/controls",
            "_view_module_version": "1.5.0",
            "_view_name": "HTMLView",
            "description": "",
            "description_tooltip": null,
            "layout": "IPY_MODEL_1a33f3fbc92747af9078828b42b0ab90",
            "placeholder": "​",
            "style": "IPY_MODEL_013ffb49740149619527ed8fb68dfc4c",
            "value": "  7%"
          }
        },
        "d642fddb1fca4f558b6a8396f8e4a61f": {
          "model_module": "@jupyter-widgets/controls",
          "model_name": "FloatProgressModel",
          "model_module_version": "1.5.0",
          "state": {
            "_dom_classes": [],
            "_model_module": "@jupyter-widgets/controls",
            "_model_module_version": "1.5.0",
            "_model_name": "FloatProgressModel",
            "_view_count": null,
            "_view_module": "@jupyter-widgets/controls",
            "_view_module_version": "1.5.0",
            "_view_name": "ProgressView",
            "bar_style": "",
            "description": "",
            "description_tooltip": null,
            "layout": "IPY_MODEL_b8b8da29adf444a29c43312b707918cb",
            "max": 18938,
            "min": 0,
            "orientation": "horizontal",
            "style": "IPY_MODEL_f4f42eb402f844dfba65d01c5a91b138",
            "value": 1411
          }
        },
        "1e311624186d46fea41b172ff5bcef0a": {
          "model_module": "@jupyter-widgets/controls",
          "model_name": "HTMLModel",
          "model_module_version": "1.5.0",
          "state": {
            "_dom_classes": [],
            "_model_module": "@jupyter-widgets/controls",
            "_model_module_version": "1.5.0",
            "_model_name": "HTMLModel",
            "_view_count": null,
            "_view_module": "@jupyter-widgets/controls",
            "_view_module_version": "1.5.0",
            "_view_name": "HTMLView",
            "description": "",
            "description_tooltip": null,
            "layout": "IPY_MODEL_b77a1d6b1ecb4e6cb9a319ad2aeb2652",
            "placeholder": "​",
            "style": "IPY_MODEL_48aacba29508496b8363799afbc71d67",
            "value": " 1411/18938 [00:53&lt;10:36, 27.53it/s]"
          }
        },
        "d8386262d8db4db5980a5ebe878d2371": {
          "model_module": "@jupyter-widgets/base",
          "model_name": "LayoutModel",
          "model_module_version": "1.2.0",
          "state": {
            "_model_module": "@jupyter-widgets/base",
            "_model_module_version": "1.2.0",
            "_model_name": "LayoutModel",
            "_view_count": null,
            "_view_module": "@jupyter-widgets/base",
            "_view_module_version": "1.2.0",
            "_view_name": "LayoutView",
            "align_content": null,
            "align_items": null,
            "align_self": null,
            "border": null,
            "bottom": null,
            "display": null,
            "flex": null,
            "flex_flow": null,
            "grid_area": null,
            "grid_auto_columns": null,
            "grid_auto_flow": null,
            "grid_auto_rows": null,
            "grid_column": null,
            "grid_gap": null,
            "grid_row": null,
            "grid_template_areas": null,
            "grid_template_columns": null,
            "grid_template_rows": null,
            "height": null,
            "justify_content": null,
            "justify_items": null,
            "left": null,
            "margin": null,
            "max_height": null,
            "max_width": null,
            "min_height": null,
            "min_width": null,
            "object_fit": null,
            "object_position": null,
            "order": null,
            "overflow": null,
            "overflow_x": null,
            "overflow_y": null,
            "padding": null,
            "right": null,
            "top": null,
            "visibility": null,
            "width": null
          }
        },
        "1a33f3fbc92747af9078828b42b0ab90": {
          "model_module": "@jupyter-widgets/base",
          "model_name": "LayoutModel",
          "model_module_version": "1.2.0",
          "state": {
            "_model_module": "@jupyter-widgets/base",
            "_model_module_version": "1.2.0",
            "_model_name": "LayoutModel",
            "_view_count": null,
            "_view_module": "@jupyter-widgets/base",
            "_view_module_version": "1.2.0",
            "_view_name": "LayoutView",
            "align_content": null,
            "align_items": null,
            "align_self": null,
            "border": null,
            "bottom": null,
            "display": null,
            "flex": null,
            "flex_flow": null,
            "grid_area": null,
            "grid_auto_columns": null,
            "grid_auto_flow": null,
            "grid_auto_rows": null,
            "grid_column": null,
            "grid_gap": null,
            "grid_row": null,
            "grid_template_areas": null,
            "grid_template_columns": null,
            "grid_template_rows": null,
            "height": null,
            "justify_content": null,
            "justify_items": null,
            "left": null,
            "margin": null,
            "max_height": null,
            "max_width": null,
            "min_height": null,
            "min_width": null,
            "object_fit": null,
            "object_position": null,
            "order": null,
            "overflow": null,
            "overflow_x": null,
            "overflow_y": null,
            "padding": null,
            "right": null,
            "top": null,
            "visibility": null,
            "width": null
          }
        },
        "013ffb49740149619527ed8fb68dfc4c": {
          "model_module": "@jupyter-widgets/controls",
          "model_name": "DescriptionStyleModel",
          "model_module_version": "1.5.0",
          "state": {
            "_model_module": "@jupyter-widgets/controls",
            "_model_module_version": "1.5.0",
            "_model_name": "DescriptionStyleModel",
            "_view_count": null,
            "_view_module": "@jupyter-widgets/base",
            "_view_module_version": "1.2.0",
            "_view_name": "StyleView",
            "description_width": ""
          }
        },
        "b8b8da29adf444a29c43312b707918cb": {
          "model_module": "@jupyter-widgets/base",
          "model_name": "LayoutModel",
          "model_module_version": "1.2.0",
          "state": {
            "_model_module": "@jupyter-widgets/base",
            "_model_module_version": "1.2.0",
            "_model_name": "LayoutModel",
            "_view_count": null,
            "_view_module": "@jupyter-widgets/base",
            "_view_module_version": "1.2.0",
            "_view_name": "LayoutView",
            "align_content": null,
            "align_items": null,
            "align_self": null,
            "border": null,
            "bottom": null,
            "display": null,
            "flex": null,
            "flex_flow": null,
            "grid_area": null,
            "grid_auto_columns": null,
            "grid_auto_flow": null,
            "grid_auto_rows": null,
            "grid_column": null,
            "grid_gap": null,
            "grid_row": null,
            "grid_template_areas": null,
            "grid_template_columns": null,
            "grid_template_rows": null,
            "height": null,
            "justify_content": null,
            "justify_items": null,
            "left": null,
            "margin": null,
            "max_height": null,
            "max_width": null,
            "min_height": null,
            "min_width": null,
            "object_fit": null,
            "object_position": null,
            "order": null,
            "overflow": null,
            "overflow_x": null,
            "overflow_y": null,
            "padding": null,
            "right": null,
            "top": null,
            "visibility": null,
            "width": null
          }
        },
        "f4f42eb402f844dfba65d01c5a91b138": {
          "model_module": "@jupyter-widgets/controls",
          "model_name": "ProgressStyleModel",
          "model_module_version": "1.5.0",
          "state": {
            "_model_module": "@jupyter-widgets/controls",
            "_model_module_version": "1.5.0",
            "_model_name": "ProgressStyleModel",
            "_view_count": null,
            "_view_module": "@jupyter-widgets/base",
            "_view_module_version": "1.2.0",
            "_view_name": "StyleView",
            "bar_color": null,
            "description_width": ""
          }
        },
        "b77a1d6b1ecb4e6cb9a319ad2aeb2652": {
          "model_module": "@jupyter-widgets/base",
          "model_name": "LayoutModel",
          "model_module_version": "1.2.0",
          "state": {
            "_model_module": "@jupyter-widgets/base",
            "_model_module_version": "1.2.0",
            "_model_name": "LayoutModel",
            "_view_count": null,
            "_view_module": "@jupyter-widgets/base",
            "_view_module_version": "1.2.0",
            "_view_name": "LayoutView",
            "align_content": null,
            "align_items": null,
            "align_self": null,
            "border": null,
            "bottom": null,
            "display": null,
            "flex": null,
            "flex_flow": null,
            "grid_area": null,
            "grid_auto_columns": null,
            "grid_auto_flow": null,
            "grid_auto_rows": null,
            "grid_column": null,
            "grid_gap": null,
            "grid_row": null,
            "grid_template_areas": null,
            "grid_template_columns": null,
            "grid_template_rows": null,
            "height": null,
            "justify_content": null,
            "justify_items": null,
            "left": null,
            "margin": null,
            "max_height": null,
            "max_width": null,
            "min_height": null,
            "min_width": null,
            "object_fit": null,
            "object_position": null,
            "order": null,
            "overflow": null,
            "overflow_x": null,
            "overflow_y": null,
            "padding": null,
            "right": null,
            "top": null,
            "visibility": null,
            "width": null
          }
        },
        "48aacba29508496b8363799afbc71d67": {
          "model_module": "@jupyter-widgets/controls",
          "model_name": "DescriptionStyleModel",
          "model_module_version": "1.5.0",
          "state": {
            "_model_module": "@jupyter-widgets/controls",
            "_model_module_version": "1.5.0",
            "_model_name": "DescriptionStyleModel",
            "_view_count": null,
            "_view_module": "@jupyter-widgets/base",
            "_view_module_version": "1.2.0",
            "_view_name": "StyleView",
            "description_width": ""
          }
        },
        "5dc94adf7b6f4b67aaf8e635e92a4a3d": {
          "model_module": "@jupyter-widgets/controls",
          "model_name": "HBoxModel",
          "model_module_version": "2.0.0",
          "state": {
            "_dom_classes": [],
            "_model_module": "@jupyter-widgets/controls",
            "_model_module_version": "2.0.0",
            "_model_name": "HBoxModel",
            "_view_count": null,
            "_view_module": "@jupyter-widgets/controls",
            "_view_module_version": "2.0.0",
            "_view_name": "HBoxView",
            "box_style": "",
            "children": [
              "IPY_MODEL_8007c5249eae482aa9892a80ffc6cbc8",
              "IPY_MODEL_ca7c4a57a80246d983c4bcac27b8fbad",
              "IPY_MODEL_cc1296a4f4424c0a9c4d51d9d99a1472"
            ],
            "layout": "IPY_MODEL_02d4dcf663f246aca120bbe350c5a54a",
            "tabbable": null,
            "tooltip": null
          }
        },
        "8007c5249eae482aa9892a80ffc6cbc8": {
          "model_module": "@jupyter-widgets/controls",
          "model_name": "HTMLModel",
          "model_module_version": "2.0.0",
          "state": {
            "_dom_classes": [],
            "_model_module": "@jupyter-widgets/controls",
            "_model_module_version": "2.0.0",
            "_model_name": "HTMLModel",
            "_view_count": null,
            "_view_module": "@jupyter-widgets/controls",
            "_view_module_version": "2.0.0",
            "_view_name": "HTMLView",
            "description": "",
            "description_allow_html": false,
            "layout": "IPY_MODEL_e333412d9e954493b5279d2d3db80ef1",
            "placeholder": "​",
            "style": "IPY_MODEL_96cb0b437eab4bd6a9769228e0def714",
            "tabbable": null,
            "tooltip": null,
            "value": "интроны: 100%"
          }
        },
        "ca7c4a57a80246d983c4bcac27b8fbad": {
          "model_module": "@jupyter-widgets/controls",
          "model_name": "FloatProgressModel",
          "model_module_version": "2.0.0",
          "state": {
            "_dom_classes": [],
            "_model_module": "@jupyter-widgets/controls",
            "_model_module_version": "2.0.0",
            "_model_name": "FloatProgressModel",
            "_view_count": null,
            "_view_module": "@jupyter-widgets/controls",
            "_view_module_version": "2.0.0",
            "_view_name": "ProgressView",
            "bar_style": "success",
            "description": "",
            "description_allow_html": false,
            "layout": "IPY_MODEL_98471727f46e4e02aa982eeba635954e",
            "max": 19,
            "min": 0,
            "orientation": "horizontal",
            "style": "IPY_MODEL_c8738f2e93d54ae99ddf98d0d4b97273",
            "tabbable": null,
            "tooltip": null,
            "value": 19
          }
        },
        "cc1296a4f4424c0a9c4d51d9d99a1472": {
          "model_module": "@jupyter-widgets/controls",
          "model_name": "HTMLModel",
          "model_module_version": "2.0.0",
          "state": {
            "_dom_classes": [],
            "_model_module": "@jupyter-widgets/controls",
            "_model_module_version": "2.0.0",
            "_model_name": "HTMLModel",
            "_view_count": null,
            "_view_module": "@jupyter-widgets/controls",
            "_view_module_version": "2.0.0",
            "_view_name": "HTMLView",
            "description": "",
            "description_allow_html": false,
            "layout": "IPY_MODEL_92f919bf5ed1445b86541c4366266db6",
            "placeholder": "​",
            "style": "IPY_MODEL_e74c496b5f974c689debbfb854ac043c",
            "tabbable": null,
            "tooltip": null,
            "value": " 19/19 [00:12&lt;00:00,  1.09s/it]"
          }
        },
        "02d4dcf663f246aca120bbe350c5a54a": {
          "model_module": "@jupyter-widgets/base",
          "model_name": "LayoutModel",
          "model_module_version": "2.0.0",
          "state": {
            "_model_module": "@jupyter-widgets/base",
            "_model_module_version": "2.0.0",
            "_model_name": "LayoutModel",
            "_view_count": null,
            "_view_module": "@jupyter-widgets/base",
            "_view_module_version": "2.0.0",
            "_view_name": "LayoutView",
            "align_content": null,
            "align_items": null,
            "align_self": null,
            "border_bottom": null,
            "border_left": null,
            "border_right": null,
            "border_top": null,
            "bottom": null,
            "display": null,
            "flex": null,
            "flex_flow": null,
            "grid_area": null,
            "grid_auto_columns": null,
            "grid_auto_flow": null,
            "grid_auto_rows": null,
            "grid_column": null,
            "grid_gap": null,
            "grid_row": null,
            "grid_template_areas": null,
            "grid_template_columns": null,
            "grid_template_rows": null,
            "height": null,
            "justify_content": null,
            "justify_items": null,
            "left": null,
            "margin": null,
            "max_height": null,
            "max_width": null,
            "min_height": null,
            "min_width": null,
            "object_fit": null,
            "object_position": null,
            "order": null,
            "overflow": null,
            "padding": null,
            "right": null,
            "top": null,
            "visibility": null,
            "width": null
          }
        },
        "e333412d9e954493b5279d2d3db80ef1": {
          "model_module": "@jupyter-widgets/base",
          "model_name": "LayoutModel",
          "model_module_version": "2.0.0",
          "state": {
            "_model_module": "@jupyter-widgets/base",
            "_model_module_version": "2.0.0",
            "_model_name": "LayoutModel",
            "_view_count": null,
            "_view_module": "@jupyter-widgets/base",
            "_view_module_version": "2.0.0",
            "_view_name": "LayoutView",
            "align_content": null,
            "align_items": null,
            "align_self": null,
            "border_bottom": null,
            "border_left": null,
            "border_right": null,
            "border_top": null,
            "bottom": null,
            "display": null,
            "flex": null,
            "flex_flow": null,
            "grid_area": null,
            "grid_auto_columns": null,
            "grid_auto_flow": null,
            "grid_auto_rows": null,
            "grid_column": null,
            "grid_gap": null,
            "grid_row": null,
            "grid_template_areas": null,
            "grid_template_columns": null,
            "grid_template_rows": null,
            "height": null,
            "justify_content": null,
            "justify_items": null,
            "left": null,
            "margin": null,
            "max_height": null,
            "max_width": null,
            "min_height": null,
            "min_width": null,
            "object_fit": null,
            "object_position": null,
            "order": null,
            "overflow": null,
            "padding": null,
            "right": null,
            "top": null,
            "visibility": null,
            "width": null
          }
        },
        "96cb0b437eab4bd6a9769228e0def714": {
          "model_module": "@jupyter-widgets/controls",
          "model_name": "HTMLStyleModel",
          "model_module_version": "2.0.0",
          "state": {
            "_model_module": "@jupyter-widgets/controls",
            "_model_module_version": "2.0.0",
            "_model_name": "HTMLStyleModel",
            "_view_count": null,
            "_view_module": "@jupyter-widgets/base",
            "_view_module_version": "2.0.0",
            "_view_name": "StyleView",
            "background": null,
            "description_width": "",
            "font_size": null,
            "text_color": null
          }
        },
        "98471727f46e4e02aa982eeba635954e": {
          "model_module": "@jupyter-widgets/base",
          "model_name": "LayoutModel",
          "model_module_version": "2.0.0",
          "state": {
            "_model_module": "@jupyter-widgets/base",
            "_model_module_version": "2.0.0",
            "_model_name": "LayoutModel",
            "_view_count": null,
            "_view_module": "@jupyter-widgets/base",
            "_view_module_version": "2.0.0",
            "_view_name": "LayoutView",
            "align_content": null,
            "align_items": null,
            "align_self": null,
            "border_bottom": null,
            "border_left": null,
            "border_right": null,
            "border_top": null,
            "bottom": null,
            "display": null,
            "flex": null,
            "flex_flow": null,
            "grid_area": null,
            "grid_auto_columns": null,
            "grid_auto_flow": null,
            "grid_auto_rows": null,
            "grid_column": null,
            "grid_gap": null,
            "grid_row": null,
            "grid_template_areas": null,
            "grid_template_columns": null,
            "grid_template_rows": null,
            "height": null,
            "justify_content": null,
            "justify_items": null,
            "left": null,
            "margin": null,
            "max_height": null,
            "max_width": null,
            "min_height": null,
            "min_width": null,
            "object_fit": null,
            "object_position": null,
            "order": null,
            "overflow": null,
            "padding": null,
            "right": null,
            "top": null,
            "visibility": null,
            "width": null
          }
        },
        "c8738f2e93d54ae99ddf98d0d4b97273": {
          "model_module": "@jupyter-widgets/controls",
          "model_name": "ProgressStyleModel",
          "model_module_version": "2.0.0",
          "state": {
            "_model_module": "@jupyter-widgets/controls",
            "_model_module_version": "2.0.0",
            "_model_name": "ProgressStyleModel",
            "_view_count": null,
            "_view_module": "@jupyter-widgets/base",
            "_view_module_version": "2.0.0",
            "_view_name": "StyleView",
            "bar_color": null,
            "description_width": ""
          }
        },
        "92f919bf5ed1445b86541c4366266db6": {
          "model_module": "@jupyter-widgets/base",
          "model_name": "LayoutModel",
          "model_module_version": "2.0.0",
          "state": {
            "_model_module": "@jupyter-widgets/base",
            "_model_module_version": "2.0.0",
            "_model_name": "LayoutModel",
            "_view_count": null,
            "_view_module": "@jupyter-widgets/base",
            "_view_module_version": "2.0.0",
            "_view_name": "LayoutView",
            "align_content": null,
            "align_items": null,
            "align_self": null,
            "border_bottom": null,
            "border_left": null,
            "border_right": null,
            "border_top": null,
            "bottom": null,
            "display": null,
            "flex": null,
            "flex_flow": null,
            "grid_area": null,
            "grid_auto_columns": null,
            "grid_auto_flow": null,
            "grid_auto_rows": null,
            "grid_column": null,
            "grid_gap": null,
            "grid_row": null,
            "grid_template_areas": null,
            "grid_template_columns": null,
            "grid_template_rows": null,
            "height": null,
            "justify_content": null,
            "justify_items": null,
            "left": null,
            "margin": null,
            "max_height": null,
            "max_width": null,
            "min_height": null,
            "min_width": null,
            "object_fit": null,
            "object_position": null,
            "order": null,
            "overflow": null,
            "padding": null,
            "right": null,
            "top": null,
            "visibility": null,
            "width": null
          }
        },
        "e74c496b5f974c689debbfb854ac043c": {
          "model_module": "@jupyter-widgets/controls",
          "model_name": "HTMLStyleModel",
          "model_module_version": "2.0.0",
          "state": {
            "_model_module": "@jupyter-widgets/controls",
            "_model_module_version": "2.0.0",
            "_model_name": "HTMLStyleModel",
            "_view_count": null,
            "_view_module": "@jupyter-widgets/base",
            "_view_module_version": "2.0.0",
            "_view_name": "StyleView",
            "background": null,
            "description_width": "",
            "font_size": null,
            "text_color": null
          }
        },
        "b11e36888272491e9e1337fcf89377e3": {
          "model_module": "@jupyter-widgets/controls",
          "model_name": "HBoxModel",
          "model_module_version": "2.0.0",
          "state": {
            "_dom_classes": [],
            "_model_module": "@jupyter-widgets/controls",
            "_model_module_version": "2.0.0",
            "_model_name": "HBoxModel",
            "_view_count": null,
            "_view_module": "@jupyter-widgets/controls",
            "_view_module_version": "2.0.0",
            "_view_name": "HBoxView",
            "box_style": "",
            "children": [
              "IPY_MODEL_c8fa93c755da41758b07d1d97cf75661",
              "IPY_MODEL_423a1f49ae9f483898e53b0e5812e65e",
              "IPY_MODEL_11ff85a9d9004519b0c0ea55d0a4364b"
            ],
            "layout": "IPY_MODEL_45832271f4eb4e1fa07476fc0dc3a38f",
            "tabbable": null,
            "tooltip": null
          }
        },
        "c8fa93c755da41758b07d1d97cf75661": {
          "model_module": "@jupyter-widgets/controls",
          "model_name": "HTMLModel",
          "model_module_version": "2.0.0",
          "state": {
            "_dom_classes": [],
            "_model_module": "@jupyter-widgets/controls",
            "_model_module_version": "2.0.0",
            "_model_name": "HTMLModel",
            "_view_count": null,
            "_view_module": "@jupyter-widgets/controls",
            "_view_module_version": "2.0.0",
            "_view_name": "HTMLView",
            "description": "",
            "description_allow_html": false,
            "layout": "IPY_MODEL_636874694ed742f381fe5bb84804bef4",
            "placeholder": "​",
            "style": "IPY_MODEL_f935966a5ba340d0a57dcecbb80ed0c4",
            "tabbable": null,
            "tooltip": null,
            "value": "таблицы: 100%"
          }
        },
        "423a1f49ae9f483898e53b0e5812e65e": {
          "model_module": "@jupyter-widgets/controls",
          "model_name": "FloatProgressModel",
          "model_module_version": "2.0.0",
          "state": {
            "_dom_classes": [],
            "_model_module": "@jupyter-widgets/controls",
            "_model_module_version": "2.0.0",
            "_model_name": "FloatProgressModel",
            "_view_count": null,
            "_view_module": "@jupyter-widgets/controls",
            "_view_module_version": "2.0.0",
            "_view_name": "ProgressView",
            "bar_style": "success",
            "description": "",
            "description_allow_html": false,
            "layout": "IPY_MODEL_ec07bfcab45c4d7eba2058774ce995b9",
            "max": 5,
            "min": 0,
            "orientation": "horizontal",
            "style": "IPY_MODEL_0ec4351234ab474ca118a22ab865aa87",
            "tabbable": null,
            "tooltip": null,
            "value": 5
          }
        },
        "11ff85a9d9004519b0c0ea55d0a4364b": {
          "model_module": "@jupyter-widgets/controls",
          "model_name": "HTMLModel",
          "model_module_version": "2.0.0",
          "state": {
            "_dom_classes": [],
            "_model_module": "@jupyter-widgets/controls",
            "_model_module_version": "2.0.0",
            "_model_name": "HTMLModel",
            "_view_count": null,
            "_view_module": "@jupyter-widgets/controls",
            "_view_module_version": "2.0.0",
            "_view_name": "HTMLView",
            "description": "",
            "description_allow_html": false,
            "layout": "IPY_MODEL_ee01bf367aa4497eb355d8075003e504",
            "placeholder": "​",
            "style": "IPY_MODEL_0c0fecf82c2a43e9b6698afca50750e7",
            "tabbable": null,
            "tooltip": null,
            "value": " 5/5 [03:45&lt;00:00, 47.19s/it]"
          }
        },
        "45832271f4eb4e1fa07476fc0dc3a38f": {
          "model_module": "@jupyter-widgets/base",
          "model_name": "LayoutModel",
          "model_module_version": "2.0.0",
          "state": {
            "_model_module": "@jupyter-widgets/base",
            "_model_module_version": "2.0.0",
            "_model_name": "LayoutModel",
            "_view_count": null,
            "_view_module": "@jupyter-widgets/base",
            "_view_module_version": "2.0.0",
            "_view_name": "LayoutView",
            "align_content": null,
            "align_items": null,
            "align_self": null,
            "border_bottom": null,
            "border_left": null,
            "border_right": null,
            "border_top": null,
            "bottom": null,
            "display": null,
            "flex": null,
            "flex_flow": null,
            "grid_area": null,
            "grid_auto_columns": null,
            "grid_auto_flow": null,
            "grid_auto_rows": null,
            "grid_column": null,
            "grid_gap": null,
            "grid_row": null,
            "grid_template_areas": null,
            "grid_template_columns": null,
            "grid_template_rows": null,
            "height": null,
            "justify_content": null,
            "justify_items": null,
            "left": null,
            "margin": null,
            "max_height": null,
            "max_width": null,
            "min_height": null,
            "min_width": null,
            "object_fit": null,
            "object_position": null,
            "order": null,
            "overflow": null,
            "padding": null,
            "right": null,
            "top": null,
            "visibility": null,
            "width": null
          }
        },
        "636874694ed742f381fe5bb84804bef4": {
          "model_module": "@jupyter-widgets/base",
          "model_name": "LayoutModel",
          "model_module_version": "2.0.0",
          "state": {
            "_model_module": "@jupyter-widgets/base",
            "_model_module_version": "2.0.0",
            "_model_name": "LayoutModel",
            "_view_count": null,
            "_view_module": "@jupyter-widgets/base",
            "_view_module_version": "2.0.0",
            "_view_name": "LayoutView",
            "align_content": null,
            "align_items": null,
            "align_self": null,
            "border_bottom": null,
            "border_left": null,
            "border_right": null,
            "border_top": null,
            "bottom": null,
            "display": null,
            "flex": null,
            "flex_flow": null,
            "grid_area": null,
            "grid_auto_columns": null,
            "grid_auto_flow": null,
            "grid_auto_rows": null,
            "grid_column": null,
            "grid_gap": null,
            "grid_row": null,
            "grid_template_areas": null,
            "grid_template_columns": null,
            "grid_template_rows": null,
            "height": null,
            "justify_content": null,
            "justify_items": null,
            "left": null,
            "margin": null,
            "max_height": null,
            "max_width": null,
            "min_height": null,
            "min_width": null,
            "object_fit": null,
            "object_position": null,
            "order": null,
            "overflow": null,
            "padding": null,
            "right": null,
            "top": null,
            "visibility": null,
            "width": null
          }
        },
        "f935966a5ba340d0a57dcecbb80ed0c4": {
          "model_module": "@jupyter-widgets/controls",
          "model_name": "HTMLStyleModel",
          "model_module_version": "2.0.0",
          "state": {
            "_model_module": "@jupyter-widgets/controls",
            "_model_module_version": "2.0.0",
            "_model_name": "HTMLStyleModel",
            "_view_count": null,
            "_view_module": "@jupyter-widgets/base",
            "_view_module_version": "2.0.0",
            "_view_name": "StyleView",
            "background": null,
            "description_width": "",
            "font_size": null,
            "text_color": null
          }
        },
        "ec07bfcab45c4d7eba2058774ce995b9": {
          "model_module": "@jupyter-widgets/base",
          "model_name": "LayoutModel",
          "model_module_version": "2.0.0",
          "state": {
            "_model_module": "@jupyter-widgets/base",
            "_model_module_version": "2.0.0",
            "_model_name": "LayoutModel",
            "_view_count": null,
            "_view_module": "@jupyter-widgets/base",
            "_view_module_version": "2.0.0",
            "_view_name": "LayoutView",
            "align_content": null,
            "align_items": null,
            "align_self": null,
            "border_bottom": null,
            "border_left": null,
            "border_right": null,
            "border_top": null,
            "bottom": null,
            "display": null,
            "flex": null,
            "flex_flow": null,
            "grid_area": null,
            "grid_auto_columns": null,
            "grid_auto_flow": null,
            "grid_auto_rows": null,
            "grid_column": null,
            "grid_gap": null,
            "grid_row": null,
            "grid_template_areas": null,
            "grid_template_columns": null,
            "grid_template_rows": null,
            "height": null,
            "justify_content": null,
            "justify_items": null,
            "left": null,
            "margin": null,
            "max_height": null,
            "max_width": null,
            "min_height": null,
            "min_width": null,
            "object_fit": null,
            "object_position": null,
            "order": null,
            "overflow": null,
            "padding": null,
            "right": null,
            "top": null,
            "visibility": null,
            "width": null
          }
        },
        "0ec4351234ab474ca118a22ab865aa87": {
          "model_module": "@jupyter-widgets/controls",
          "model_name": "ProgressStyleModel",
          "model_module_version": "2.0.0",
          "state": {
            "_model_module": "@jupyter-widgets/controls",
            "_model_module_version": "2.0.0",
            "_model_name": "ProgressStyleModel",
            "_view_count": null,
            "_view_module": "@jupyter-widgets/base",
            "_view_module_version": "2.0.0",
            "_view_name": "StyleView",
            "bar_color": null,
            "description_width": ""
          }
        },
        "ee01bf367aa4497eb355d8075003e504": {
          "model_module": "@jupyter-widgets/base",
          "model_name": "LayoutModel",
          "model_module_version": "2.0.0",
          "state": {
            "_model_module": "@jupyter-widgets/base",
            "_model_module_version": "2.0.0",
            "_model_name": "LayoutModel",
            "_view_count": null,
            "_view_module": "@jupyter-widgets/base",
            "_view_module_version": "2.0.0",
            "_view_name": "LayoutView",
            "align_content": null,
            "align_items": null,
            "align_self": null,
            "border_bottom": null,
            "border_left": null,
            "border_right": null,
            "border_top": null,
            "bottom": null,
            "display": null,
            "flex": null,
            "flex_flow": null,
            "grid_area": null,
            "grid_auto_columns": null,
            "grid_auto_flow": null,
            "grid_auto_rows": null,
            "grid_column": null,
            "grid_gap": null,
            "grid_row": null,
            "grid_template_areas": null,
            "grid_template_columns": null,
            "grid_template_rows": null,
            "height": null,
            "justify_content": null,
            "justify_items": null,
            "left": null,
            "margin": null,
            "max_height": null,
            "max_width": null,
            "min_height": null,
            "min_width": null,
            "object_fit": null,
            "object_position": null,
            "order": null,
            "overflow": null,
            "padding": null,
            "right": null,
            "top": null,
            "visibility": null,
            "width": null
          }
        },
        "0c0fecf82c2a43e9b6698afca50750e7": {
          "model_module": "@jupyter-widgets/controls",
          "model_name": "HTMLStyleModel",
          "model_module_version": "2.0.0",
          "state": {
            "_model_module": "@jupyter-widgets/controls",
            "_model_module_version": "2.0.0",
            "_model_name": "HTMLStyleModel",
            "_view_count": null,
            "_view_module": "@jupyter-widgets/base",
            "_view_module_version": "2.0.0",
            "_view_name": "StyleView",
            "background": null,
            "description_width": "",
            "font_size": null,
            "text_color": null
          }
        }
      }
    }
  },
  "cells": [
    {
      "cell_type": "markdown",
      "source": [
        "# (опц) Скачать prebuilt длительных операций"
      ],
      "metadata": {
        "id": "vFItIiYO4OY-"
      }
    },
    {
      "cell_type": "code",
      "source": [
        "!wget https://storage.yandexcloud.net/ivanprogramming/C_niphades_genome.fasta.Z-SCORE\n",
        "!wget https://storage.yandexcloud.net/ivanprogramming/ZDNA_sites.bed"
      ],
      "metadata": {
        "colab": {
          "base_uri": "https://localhost:8080/"
        },
        "id": "W_IEppwS4NkK",
        "outputId": "ab4b159b-1cf7-44b6-ce44-05375bcf62f5"
      },
      "execution_count": 23,
      "outputs": [
        {
          "output_type": "stream",
          "name": "stdout",
          "text": [
            "ZDNA_sites.bed      100%[===================>]   2.37G  11.3MB/s    in 3m 38s  \n",
            "\n",
            "2025-06-19 00:19:04 (11.1 MB/s) - ‘ZDNA_sites.bed’ saved [2547699369/2547699369]\n",
            "\n"
          ]
        }
      ]
    },
    {
      "cell_type": "code",
      "source": [
        "!wget https://storage.yandexcloud.net/ivanprogramming/zdnabert_regions.bed\n",
        "!wget https://storage.yandexcloud.net/ivanprogramming/g4_regions.bed"
      ],
      "metadata": {
        "id": "47lYmcV14Tvm"
      },
      "execution_count": null,
      "outputs": []
    },
    {
      "cell_type": "markdown",
      "source": [
        "# Установка зависимостей"
      ],
      "metadata": {
        "id": "YYGtOEem4UNI"
      }
    },
    {
      "cell_type": "code",
      "execution_count": 7,
      "metadata": {
        "colab": {
          "base_uri": "https://localhost:8080/"
        },
        "id": "i4apVgqZHckN",
        "outputId": "39bcd846-cf6a-479e-b107-5671b384b780"
      },
      "outputs": [
        {
          "output_type": "stream",
          "name": "stdout",
          "text": [
            "Reading package lists... Done\n",
            "Building dependency tree... Done\n",
            "Reading state information... Done\n",
            "hmmer is already the newest version (3.3.2+dfsg-1).\n",
            "samtools is already the newest version (1.13-4).\n",
            "bedtools is already the newest version (2.30.0+dfsg-2ubuntu0.1).\n",
            "0 upgraded, 0 newly installed, 0 to remove and 15 not upgraded.\n",
            "^C\n",
            "Traceback (most recent call last):\n",
            "  File \u001b[35m\"/root/miniconda3/bin/pip\"\u001b[0m, line \u001b[35m7\u001b[0m, in \u001b[35m<module>\u001b[0m\n",
            "    from pip._internal.cli.main import main\n",
            "  File \u001b[35m\"/root/miniconda3/lib/python3.13/site-packages/pip/_internal/cli/main.py\"\u001b[0m, line \u001b[35m11\u001b[0m, in \u001b[35m<module>\u001b[0m\n",
            "    from pip._internal.cli.autocompletion import autocomplete\n",
            "  File \u001b[35m\"/root/miniconda3/lib/python3.13/site-packages/pip/_internal/cli/autocompletion.py\"\u001b[0m, line \u001b[35m10\u001b[0m, in \u001b[35m<module>\u001b[0m\n",
            "    from pip._internal.cli.main_parser import create_main_parser\n",
            "  File \u001b[35m\"/root/miniconda3/lib/python3.13/site-packages/pip/_internal/cli/main_parser.py\"\u001b[0m, line \u001b[35m9\u001b[0m, in \u001b[35m<module>\u001b[0m\n",
            "    from pip._internal.build_env import get_runnable_pip\n",
            "  File \u001b[35m\"/root/miniconda3/lib/python3.13/site-packages/pip/_internal/build_env.py\"\u001b[0m, line \u001b[35m20\u001b[0m, in \u001b[35m<module>\u001b[0m\n",
            "    from pip._internal.metadata import get_default_environment, get_environment\n",
            "  File \u001b[35m\"/root/miniconda3/lib/python3.13/site-packages/pip/_internal/metadata/__init__.py\"\u001b[0m, line \u001b[35m9\u001b[0m, in \u001b[35m<module>\u001b[0m\n",
            "    from .base import BaseDistribution, BaseEnvironment, FilesystemWheel, MemoryWheel, Wheel\n",
            "  File \u001b[35m\"/root/miniconda3/lib/python3.13/site-packages/pip/_internal/metadata/base.py\"\u001b[0m, line \u001b[35m40\u001b[0m, in \u001b[35m<module>\u001b[0m\n",
            "    from pip._internal.utils.urls import url_to_path\n",
            "  File \u001b[35m\"/root/miniconda3/lib/python3.13/site-packages/pip/_internal/utils/urls.py\"\u001b[0m, line \u001b[35m4\u001b[0m, in \u001b[35m<module>\u001b[0m\n",
            "    import urllib.request\n",
            "  File \u001b[35m\"/root/miniconda3/lib/python3.13/urllib/request.py\"\u001b[0m, line \u001b[35m88\u001b[0m, in \u001b[35m<module>\u001b[0m\n",
            "    import http.client\n",
            "  File \u001b[35m\"/root/miniconda3/lib/python3.13/http/client.py\"\u001b[0m, line \u001b[35m1450\u001b[0m, in \u001b[35m<module>\u001b[0m\n",
            "    import ssl\n",
            "  File \u001b[35m\"/root/miniconda3/lib/python3.13/ssl.py\"\u001b[0m, line \u001b[35m100\u001b[0m, in \u001b[35m<module>\u001b[0m\n",
            "    \u001b[1;31mimport _ssl\u001b[0m             # if we can't import it, let the error propagate\n",
            "    \u001b[1;31m^^^^^^^^^^^\u001b[0m\n",
            "\u001b[1;35mKeyboardInterrupt\u001b[0m\n",
            "Reading package lists... Done\n",
            "Building dependency tree... Done\n",
            "Reading state information... Done\n",
            "rclone is already the newest version (1.53.3-4ubuntu1.22.04.3).\n",
            "0 upgraded, 0 newly installed, 0 to remove and 15 not upgraded.\n",
            "Requirement already satisfied: tabulate in ./miniconda3/lib/python3.13/site-packages (0.9.0)\n",
            "\u001b[33mWARNING: Running pip as the 'root' user can result in broken permissions and conflicting behaviour with the system package manager, possibly rendering your system unusable. It is recommended to use a virtual environment instead: https://pip.pypa.io/warnings/venv. Use the --root-user-action option if you know what you are doing and want to suppress this warning.\u001b[0m\u001b[33m\n",
            "\u001b[0m"
          ]
        }
      ],
      "source": [
        "# Обновляем пакетный индекс и устанавливаем необходимые пакеты\n",
        "!apt-get update -qq\n",
        "!apt-get install -y hmmer bedtools samtools\n",
        "\n",
        "# Устанавливаем Python-библиотеки\n",
        "!pip install pybedtools pandas biopython transformers pyranges\n",
        "# Rclone - для создания чекпоинтов на S3\n",
        "!apt-get install rclone\n",
        "!pip install tabulate"
      ]
    },
    {
      "cell_type": "code",
      "source": [
        "!pip install -q condacolab\n",
        "import condacolab\n",
        "condacolab.install()"
      ],
      "metadata": {
        "id": "9bg28QyQUxJv",
        "colab": {
          "base_uri": "https://localhost:8080/",
          "height": 508
        },
        "outputId": "80baa105-1430-43e3-8c91-89ebd1370930"
      },
      "execution_count": 2,
      "outputs": [
        {
          "output_type": "stream",
          "name": "stdout",
          "text": [
            "\u001b[33mWARNING: Running pip as the 'root' user can result in broken permissions and conflicting behaviour with the system package manager. It is recommended to use a virtual environment instead: https://pip.pypa.io/warnings/venv\u001b[0m\u001b[33m\r\n",
            "\u001b[0m"
          ]
        },
        {
          "output_type": "error",
          "ename": "RuntimeError",
          "evalue": "This module must ONLY run as part of a Colab notebook!",
          "traceback": [
            "\u001b[0;31m---------------------------------------------------------------------------\u001b[0m",
            "\u001b[0;31mModuleNotFoundError\u001b[0m                       Traceback (most recent call last)",
            "File \u001b[0;32m/usr/local/lib/python3.10/dist-packages/condacolab.py:27\u001b[0m\n\u001b[1;32m     26\u001b[0m \u001b[38;5;28;01mtry\u001b[39;00m:\n\u001b[0;32m---> 27\u001b[0m     \u001b[38;5;28;01mimport\u001b[39;00m\u001b[38;5;250m \u001b[39m\u001b[38;5;21;01mgoogle\u001b[39;00m\u001b[38;5;21;01m.\u001b[39;00m\u001b[38;5;21;01mcolab\u001b[39;00m\n\u001b[1;32m     28\u001b[0m \u001b[38;5;28;01mexcept\u001b[39;00m \u001b[38;5;167;01mImportError\u001b[39;00m:\n",
            "\u001b[0;31mModuleNotFoundError\u001b[0m: No module named 'google'",
            "\nDuring handling of the above exception, another exception occurred:\n",
            "\u001b[0;31mRuntimeError\u001b[0m                              Traceback (most recent call last)",
            "Cell \u001b[0;32mIn[2], line 2\u001b[0m\n\u001b[1;32m      1\u001b[0m get_ipython()\u001b[38;5;241m.\u001b[39msystem(\u001b[38;5;124m'\u001b[39m\u001b[38;5;124mpip install -q condacolab\u001b[39m\u001b[38;5;124m'\u001b[39m)\n\u001b[0;32m----> 2\u001b[0m \u001b[38;5;28;01mimport\u001b[39;00m\u001b[38;5;250m \u001b[39m\u001b[38;5;21;01mcondacolab\u001b[39;00m\n\u001b[1;32m      3\u001b[0m condacolab\u001b[38;5;241m.\u001b[39minstall()\n",
            "File \u001b[0;32m/usr/local/lib/python3.10/dist-packages/condacolab.py:29\u001b[0m\n\u001b[1;32m     27\u001b[0m     \u001b[38;5;28;01mimport\u001b[39;00m\u001b[38;5;250m \u001b[39m\u001b[38;5;21;01mgoogle\u001b[39;00m\u001b[38;5;21;01m.\u001b[39;00m\u001b[38;5;21;01mcolab\u001b[39;00m\n\u001b[1;32m     28\u001b[0m \u001b[38;5;28;01mexcept\u001b[39;00m \u001b[38;5;167;01mImportError\u001b[39;00m:\n\u001b[0;32m---> 29\u001b[0m     \u001b[38;5;28;01mraise\u001b[39;00m \u001b[38;5;167;01mRuntimeError\u001b[39;00m(\u001b[38;5;124m\"\u001b[39m\u001b[38;5;124mThis module must ONLY run as part of a Colab notebook!\u001b[39m\u001b[38;5;124m\"\u001b[39m)\n\u001b[1;32m     32\u001b[0m __version__ \u001b[38;5;241m=\u001b[39m \u001b[38;5;124m\"\u001b[39m\u001b[38;5;124m0.1.9\u001b[39m\u001b[38;5;124m\"\u001b[39m\n\u001b[1;32m     33\u001b[0m __author__ \u001b[38;5;241m=\u001b[39m \u001b[38;5;124m\"\u001b[39m\u001b[38;5;124mJaime Rodríguez-Guerra <jaimergp@users.noreply.github.com>\u001b[39m\u001b[38;5;124m\"\u001b[39m\n",
            "\u001b[0;31mRuntimeError\u001b[0m: This module must ONLY run as part of a Colab notebook!"
          ]
        }
      ]
    },
    {
      "cell_type": "code",
      "source": [
        "!conda install -y -c bioconda gffread"
      ],
      "metadata": {
        "colab": {
          "base_uri": "https://localhost:8080/"
        },
        "id": "P_zhfQsd225e",
        "outputId": "0d488b82-5ebe-4dcf-ed39-deabf38c749b"
      },
      "execution_count": 5,
      "outputs": [
        {
          "output_type": "stream",
          "name": "stdout",
          "text": [
            "Channels:\n",
            " - bioconda\n",
            " - defaults\n",
            "Platform: linux-64\n",
            "Collecting package metadata (repodata.json): - \b\b\\ \b\b| \b\b/ \b\b- \b\b\\ \b\b| \b\b/ \b\b- \b\b\\ \b\b| \b\b/ \b\b- \b\b\\ \b\b| \b\b/ \b\b- \b\b\\ \b\b| \b\b/ \b\b- \b\b\\ \b\b| \b\b/ \b\b- \b\b\\ \b\b| \b\b/ \b\b- \b\b\\ \b\b| \b\bdone\n",
            "Solving environment: - \b\b\\ \b\bdone\n",
            "\n",
            "## Package Plan ##\n",
            "\n",
            "  environment location: /root/miniconda3\n",
            "\n",
            "  added / updated specs:\n",
            "    - gffread\n",
            "\n",
            "\n",
            "The following packages will be downloaded:\n",
            "\n",
            "    package                    |            build\n",
            "    ---------------------------|-----------------\n",
            "    conda-25.5.1               |  py313h06a4308_0         1.2 MB\n",
            "    gffread-0.12.7             |       h9a82719_0         138 KB  bioconda\n",
            "    ------------------------------------------------------------\n",
            "                                           Total:         1.3 MB\n",
            "\n",
            "The following NEW packages will be INSTALLED:\n",
            "\n",
            "  gffread            bioconda/linux-64::gffread-0.12.7-h9a82719_0 \n",
            "\n",
            "The following packages will be UPDATED:\n",
            "\n",
            "  conda                              25.3.1-py313h06a4308_0 --> 25.5.1-py313h06a4308_0 \n",
            "\n",
            "\n",
            "\n",
            "conda-25.5.1         | 1.2 MB    |            |   0% \n",
            "conda-25.5.1         | 1.2 MB    | ########7  |  87% \n",
            "conda-25.5.1         | 1.2 MB    | ########## | 100% \n",
            "gffread-0.12.7       | 138 KB    | ########## | 100% \u001b[A\n",
            "gffread-0.12.7       | 138 KB    | ########## | 100% \u001b[A\n",
            "                                                     \n",
            "                                                     \u001b[A done\n",
            "Preparing transaction: / \b\bdone\n",
            "Verifying transaction: \\ \b\bdone\n",
            "Executing transaction: / \b\bdone\n"
          ]
        }
      ]
    },
    {
      "cell_type": "code",
      "source": [
        "!conda install -y -c bioconda gffread"
      ],
      "metadata": {
        "id": "YNRaBptAVAmw",
        "colab": {
          "base_uri": "https://localhost:8080/"
        },
        "outputId": "2fa19be2-447f-440d-c423-18c05863a37c"
      },
      "execution_count": 3,
      "outputs": [
        {
          "output_type": "stream",
          "name": "stdout",
          "text": [
            "/bin/bash: line 1: conda: command not found\r\n"
          ]
        }
      ]
    },
    {
      "cell_type": "code",
      "source": [
        "!wget https://storage.yandexcloud.net/ivanprogramming/zhunt3-alan.c\n",
        "!gcc ./zhunt3-alan.c -O3 -o ./zhunt -lm"
      ],
      "metadata": {
        "id": "3iIqjqwk4dmd"
      },
      "execution_count": null,
      "outputs": []
    },
    {
      "cell_type": "markdown",
      "source": [
        "# Геном и аннотация"
      ],
      "metadata": {
        "id": "I3GquP_94WwD"
      }
    },
    {
      "cell_type": "code",
      "source": [
        "!wget -O C_niphades_genome.fna.gz \"https://ftp.ncbi.nlm.nih.gov/genomes/all/GCA/946/814/055/GCA_946814055.1_CNIP/GCA_946814055.1_CNIP_genomic.fna.gz\"\n",
        "!gunzip C_niphades_genome.fna.gz"
      ],
      "metadata": {
        "id": "kq6imy6pH037",
        "outputId": "42179992-92f7-411c-d3d7-54f31d29439e",
        "colab": {
          "base_uri": "https://localhost:8080/"
        }
      },
      "execution_count": 5,
      "outputs": [
        {
          "output_type": "stream",
          "name": "stdout",
          "text": [
            "--2025-06-19 00:00:20--  https://ftp.ncbi.nlm.nih.gov/genomes/all/GCA/946/814/055/GCA_946814055.1_CNIP/GCA_946814055.1_CNIP_genomic.fna.gz\n",
            "Resolving ftp.ncbi.nlm.nih.gov (ftp.ncbi.nlm.nih.gov)... 2607:f220:41e:250::7, 2607:f220:41e:250::12, 2607:f220:41e:250::31, ...\n",
            "Connecting to ftp.ncbi.nlm.nih.gov (ftp.ncbi.nlm.nih.gov)|2607:f220:41e:250::7|:443... failed: No route to host.\n",
            "Connecting to ftp.ncbi.nlm.nih.gov (ftp.ncbi.nlm.nih.gov)|2607:f220:41e:250::12|:443... connected.\n",
            "HTTP request sent, awaiting response... 200 OK\n",
            "Length: 18554002 (18M) [application/x-gzip]\n",
            "Saving to: ‘C_niphades_genome.fna.gz’\n",
            "\n",
            "C_niphades_genome.f 100%[===================>]  17.69M  7.79MB/s    in 2.3s    \n",
            "\n",
            "2025-06-19 00:00:24 (7.79 MB/s) - ‘C_niphades_genome.fna.gz’ saved [18554002/18554002]\n",
            "\n"
          ]
        }
      ]
    },
    {
      "cell_type": "code",
      "source": [
        "!wget -O C_niphades_annotation.gff.gz \"https://ftp.ncbi.nlm.nih.gov/genomes/all/GCA/946/814/055/GCA_946814055.1_CNIP/GCA_946814055.1_CNIP_genomic.gff.gz\"\n",
        "!gunzip C_niphades_annotation.gff.gz"
      ],
      "metadata": {
        "id": "0trsP7CXIJ_F",
        "outputId": "52e357d7-6834-4460-f27f-432a24a3612d",
        "colab": {
          "base_uri": "https://localhost:8080/"
        }
      },
      "execution_count": 7,
      "outputs": [
        {
          "output_type": "stream",
          "name": "stdout",
          "text": [
            "--2025-06-19 00:00:25--  https://ftp.ncbi.nlm.nih.gov/genomes/all/GCA/946/814/055/GCA_946814055.1_CNIP/GCA_946814055.1_CNIP_genomic.gff.gz\r\n",
            "Resolving ftp.ncbi.nlm.nih.gov (ftp.ncbi.nlm.nih.gov)... 2607:f220:41e:250::10, 2607:f220:41e:250::31, 2607:f220:41e:250::12, ...\n",
            "Connecting to ftp.ncbi.nlm.nih.gov (ftp.ncbi.nlm.nih.gov)|2607:f220:41e:250::10|:443... connected.\n",
            "HTTP request sent, awaiting response... 200 OK\n",
            "Length: 2869353 (2.7M) [application/x-gzip]\n",
            "Saving to: ‘C_niphades_annotation.gff.gz’\n",
            "\n",
            "C_niphades_annotati 100%[===================>]   2.74M  2.79MB/s    in 1.0s    \n",
            "\n",
            "2025-06-19 00:00:27 (2.79 MB/s) - ‘C_niphades_annotation.gff.gz’ saved [2869353/2869353]\n",
            "\n"
          ]
        }
      ]
    },
    {
      "cell_type": "code",
      "source": [
        "!head C_niphades_annotation.gff"
      ],
      "metadata": {
        "id": "eZx7nTyFWMTW",
        "outputId": "e704f9a7-886e-4bfe-92ad-a7c766e63628",
        "colab": {
          "base_uri": "https://localhost:8080/"
        }
      },
      "execution_count": 9,
      "outputs": [
        {
          "output_type": "stream",
          "name": "stdout",
          "text": [
            "##gff-version 3\r\n",
            "#!gff-spec-version 1.21\r\n",
            "#!processor NCBI annotwriter\r\n",
            "#!genome-build CNIP\r\n",
            "#!genome-build-accession NCBI_Assembly:GCA_946814055.1\r\n",
            "##sequence-region CAMPFS010000001.1 1 9393127\r\n",
            "##species https://www.ncbi.nlm.nih.gov/Taxonomy/Browser/wwwtax.cgi?id=2970133\r\n",
            "CAMPFS010000001.1\tEMBL\tregion\t1\t9393127\t.\t+\t.\tID=CAMPFS010000001.1:1..9393127;Dbxref=taxon:2970133;gbkey=Src;isolation-source=Niphades variegatus;mol_type=genomic DNA;note=contig: Sp36v6_Chr1;strain=NKZ392\r\n",
            "CAMPFS010000001.1\tEMBL\tgene\t3586\t8382\t.\t+\t.\tID=gene-CNIP_LOCUS1;Name=CNIP_LOCUS1;gbkey=Gene;gene_biotype=protein_coding;locus_tag=CNIP_LOCUS1\r\n",
            "CAMPFS010000001.1\tEMBL\tCDS\t3586\t3690\t.\t+\t0\tID=cds-CAI2292421.1;Parent=gene-CNIP_LOCUS1;Dbxref=NCBI_GP:CAI2292421.1;Name=CAI2292421.1;Note=ID:Sp36v6_10000100.t1.cds1%3B~ID:Sp36v6_10000100.t1.cds2%3B~ID:Sp36v6_10000100.t1.cds3%3B~ID:Sp36v6_10000100.t1.cds4%3B~ID:Sp36v6_10000100.t1.cds5%3B~ID:Sp36v6_10000100.t1.cds6%3B~ID:Sp36v6_10000100.t1.cds7%3B~ID:Sp36v6_10000100.t1.cds8%3B~source:AUGUSTUS;gbkey=CDS;locus_tag=CNIP_LOCUS1;product=CAI2292421.1;protein_id=CAI2292421.1\r\n"
          ]
        }
      ]
    },
    {
      "cell_type": "code",
      "source": [
        "%%bash\n",
        "source ~/miniconda3/bin/activate\n",
        "gffread -g C_niphades_genome.fna -y C_niphades_proteome.faa C_niphades_annotation.gff"
      ],
      "metadata": {
        "id": "jqRbn10hIohZ",
        "outputId": "022955d0-56a5-48e5-fbae-f1051e2514a5",
        "colab": {
          "base_uri": "https://localhost:8080/"
        }
      },
      "execution_count": 7,
      "outputs": [
        {
          "output_type": "stream",
          "name": "stderr",
          "text": [
            "FASTA index file C_niphades_genome.fna.fai created.\n"
          ]
        }
      ]
    },
    {
      "cell_type": "code",
      "source": [
        "!wget http://ftp.ebi.ac.uk/pub/databases/Pfam/releases/Pfam35.0/Pfam-A.hmm.gz"
      ],
      "metadata": {
        "id": "VT1enyVcIrzY",
        "outputId": "4d1097e0-62ac-4b88-900b-afbd1823f24e",
        "colab": {
          "base_uri": "https://localhost:8080/"
        }
      },
      "execution_count": 8,
      "outputs": [
        {
          "output_type": "stream",
          "name": "stdout",
          "text": [
            "--2025-06-19 00:05:42--  http://ftp.ebi.ac.uk/pub/databases/Pfam/releases/Pfam35.0/Pfam-A.hmm.gz\n",
            "Resolving ftp.ebi.ac.uk (ftp.ebi.ac.uk)... 193.62.193.165\n",
            "Connecting to ftp.ebi.ac.uk (ftp.ebi.ac.uk)|193.62.193.165|:80... connected.\n",
            "HTTP request sent, awaiting response... 200 OK\n",
            "Length: 293000230 (279M) [application/x-gzip]\n",
            "Saving to: ‘Pfam-A.hmm.gz’\n",
            "\n",
            "Pfam-A.hmm.gz       100%[===================>] 279.43M  11.7MB/s    in 24s     \n",
            "\n",
            "2025-06-19 00:06:07 (11.6 MB/s) - ‘Pfam-A.hmm.gz’ saved [293000230/293000230]\n",
            "\n"
          ]
        }
      ]
    },
    {
      "cell_type": "markdown",
      "source": [
        "# Поиск эпигенетических генов в протеоме с помощью HMMER"
      ],
      "metadata": {
        "id": "yTZde-wp5FQz"
      }
    },
    {
      "cell_type": "code",
      "source": [
        "!gunzip Pfam-A.hmm.gz\n",
        "!hmmpress Pfam-A.hmm"
      ],
      "metadata": {
        "id": "caaSDQfGIwV6",
        "colab": {
          "base_uri": "https://localhost:8080/"
        },
        "outputId": "c893590e-c0df-4eb0-ac1c-29a0fe446dbb"
      },
      "execution_count": 9,
      "outputs": [
        {
          "output_type": "stream",
          "name": "stdout",
          "text": [
            "Working...    done.\n",
            "Pressed and indexed 19632 HMMs (19632 names and 19632 accessions).\n",
            "Models pressed into binary file:   Pfam-A.hmm.h3m\n",
            "SSI index for binary model file:   Pfam-A.hmm.h3i\n",
            "Profiles (MSV part) pressed into:  Pfam-A.hmm.h3f\n",
            "Profiles (remainder) pressed into: Pfam-A.hmm.h3p\n"
          ]
        }
      ]
    },
    {
      "cell_type": "code",
      "source": [
        "%%bash\n",
        "> epigenetic_domains.hmm\n",
        "selected_pfams=(PF00439 PF00385 PF00628 PF00856 PF00583 PF00145 PF02146 PF00567 PF02182 PF02373 PF18408)\n",
        "\n",
        "for pf in \"${selected_pfams[@]}\"; do\n",
        "  # Ищем полную запись ACC, включая версию\n",
        "  version=$(grep -E \"^ACC\\s+${pf}\\.\" Pfam-A.hmm | awk '{print $2}')\n",
        "  if [[ -z \"$version\" ]]; then\n",
        "    echo \"ERROR: не найден профиль $pf\" >&2\n",
        "    continue\n",
        "  fi\n",
        "  echo \"Извлекаем профиль $version ...\"\n",
        "  hmmfetch Pfam-A.hmm \"$version\" >> epigenetic_domains.hmm\n",
        "done"
      ],
      "metadata": {
        "id": "w4lubA6vIznO",
        "colab": {
          "base_uri": "https://localhost:8080/"
        },
        "outputId": "f35105bb-3fb8-4a9e-92fe-7e1592813f96"
      },
      "execution_count": 10,
      "outputs": [
        {
          "output_type": "stream",
          "name": "stdout",
          "text": [
            "Извлекаем профиль PF00439.28 ...\n",
            "Извлекаем профиль PF00385.27 ...\n",
            "Извлекаем профиль PF00628.32 ...\n",
            "Извлекаем профиль PF00856.31 ...\n",
            "Извлекаем профиль PF00583.28 ...\n",
            "Извлекаем профиль PF00145.20 ...\n",
            "Извлекаем профиль PF02146.20 ...\n",
            "Извлекаем профиль PF00567.27 ...\n",
            "Извлекаем профиль PF02182.20 ...\n",
            "Извлекаем профиль PF02373.25 ...\n",
            "Извлекаем профиль PF18408.4 ...\n"
          ]
        }
      ]
    },
    {
      "cell_type": "code",
      "source": [
        "!hmmpress epigenetic_do"
      ],
      "metadata": {
        "id": "QeBBVznRJwr-"
      },
      "execution_count": null,
      "outputs": []
    },
    {
      "cell_type": "code",
      "source": [
        "!hmmscan --domtblout Cniphades_epigenetic.domtblout --noali --cpu 2 epigenetic_domains.hmm C_niphades_proteome.faa"
      ],
      "metadata": {
        "id": "NLbfPfTsKUT8"
      },
      "execution_count": null,
      "outputs": []
    },
    {
      "cell_type": "code",
      "source": [
        "!head Cniphades_epigenetic.domtblout"
      ],
      "metadata": {
        "id": "cURSQWNVaNIo"
      },
      "execution_count": null,
      "outputs": []
    },
    {
      "cell_type": "code",
      "source": [
        "import pandas as pd, re, collections, os, textwrap\n",
        "from pathlib import Path\n",
        "from Bio import SearchIO\n",
        "\n",
        "DOMTBL = Path(\"./Cniphades_epigenetic.domtblout\")\n",
        "GFF    = Path(\"./C_niphades_annotation.gff\")\n",
        "\n",
        "gene_name, gene_coord = {}, {}\n",
        "attr_re = re.compile(r'([^=;]+)=([^;]+)')\n",
        "\n",
        "with GFF.open() as fh:\n",
        "    for ln in fh:\n",
        "        if ln.startswith(\"#\"):\n",
        "            continue\n",
        "        parts = ln.rstrip().split('\\t')\n",
        "        if len(parts) != 9:\n",
        "            continue\n",
        "        seqid, _, ftype, start, end, _, strand, _, attrs = parts\n",
        "        if ftype != \"gene\":\n",
        "            continue\n",
        "        d = {m.group(1): m.group(2) for m in attr_re.finditer(attrs)}\n",
        "        gid = d.get(\"ID\", \"\").replace(\"gene-\", \"\")\n",
        "        name = d.get(\"Name\", gid)\n",
        "        gene_name[gid] = name\n",
        "        gene_coord[gid] = f\"{seqid}:{start}-{end}({strand})\"\n",
        "\n",
        "pfam2genes = collections.defaultdict(set)\n",
        "\n",
        "for qres in SearchIO.parse(str(DOMTBL), \"hmmscan3-domtab\"):\n",
        "    pfam = qres.id.split('.')[0]\n",
        "    for hit in qres.hits:\n",
        "        if hit.evalue < 1e-5:\n",
        "            gid = hit.id.replace(\"gene-\", \"\").split('|')[-1]\n",
        "            pfam2genes[pfam].add(gid)\n",
        "\n",
        "rows=[]\n",
        "for pfam, genes in pfam2genes.items():\n",
        "    for g in sorted(genes):\n",
        "        rows.append([pfam.replace(\"gene-\", \"\"),\n",
        "                     gene_name.get(g, g),\n",
        "                     gene_coord.get(g, \"—\")])\n",
        "\n",
        "df = pd.DataFrame(rows,\n",
        "                  columns=[\"Название гена\",\n",
        "                           \"Проверяемое семейство\",\n",
        "                           \"Координаты гена\"])\n",
        "\n",
        "df"
      ],
      "metadata": {
        "id": "mRHIN-1hKZVP",
        "colab": {
          "base_uri": "https://localhost:8080/",
          "height": 423
        },
        "outputId": "2cd34cf1-1cfa-4f0a-bebf-37e8e375bc92"
      },
      "execution_count": 18,
      "outputs": [
        {
          "output_type": "execute_result",
          "data": {
            "text/plain": [
              "       Название гена Проверяемое семейство Координаты гена\n",
              "0      CNIP_LOCUS307                  JmjC               —\n",
              "1      CNIP_LOCUS307                   PHD               —\n",
              "2      CNIP_LOCUS519        Acetyltransf_1               —\n",
              "3      CNIP_LOCUS567           Bromodomain               —\n",
              "4      CNIP_LOCUS883                   SET               —\n",
              "..               ...                   ...             ...\n",
              "151  CNIP_LOCUS15840                   PHD               —\n",
              "152  CNIP_LOCUS15889                  JmjC               —\n",
              "153  CNIP_LOCUS15890                  JmjC               —\n",
              "154  CNIP_LOCUS16031                   PHD               —\n",
              "155  CNIP_LOCUS16134                  SIR2               —\n",
              "\n",
              "[156 rows x 3 columns]"
            ],
            "text/html": [
              "<div>\n",
              "<style scoped>\n",
              "    .dataframe tbody tr th:only-of-type {\n",
              "        vertical-align: middle;\n",
              "    }\n",
              "\n",
              "    .dataframe tbody tr th {\n",
              "        vertical-align: top;\n",
              "    }\n",
              "\n",
              "    .dataframe thead th {\n",
              "        text-align: right;\n",
              "    }\n",
              "</style>\n",
              "<table border=\"1\" class=\"dataframe\">\n",
              "  <thead>\n",
              "    <tr style=\"text-align: right;\">\n",
              "      <th></th>\n",
              "      <th>Название гена</th>\n",
              "      <th>Проверяемое семейство</th>\n",
              "      <th>Координаты гена</th>\n",
              "    </tr>\n",
              "  </thead>\n",
              "  <tbody>\n",
              "    <tr>\n",
              "      <th>0</th>\n",
              "      <td>CNIP_LOCUS307</td>\n",
              "      <td>JmjC</td>\n",
              "      <td>—</td>\n",
              "    </tr>\n",
              "    <tr>\n",
              "      <th>1</th>\n",
              "      <td>CNIP_LOCUS307</td>\n",
              "      <td>PHD</td>\n",
              "      <td>—</td>\n",
              "    </tr>\n",
              "    <tr>\n",
              "      <th>2</th>\n",
              "      <td>CNIP_LOCUS519</td>\n",
              "      <td>Acetyltransf_1</td>\n",
              "      <td>—</td>\n",
              "    </tr>\n",
              "    <tr>\n",
              "      <th>3</th>\n",
              "      <td>CNIP_LOCUS567</td>\n",
              "      <td>Bromodomain</td>\n",
              "      <td>—</td>\n",
              "    </tr>\n",
              "    <tr>\n",
              "      <th>4</th>\n",
              "      <td>CNIP_LOCUS883</td>\n",
              "      <td>SET</td>\n",
              "      <td>—</td>\n",
              "    </tr>\n",
              "    <tr>\n",
              "      <th>...</th>\n",
              "      <td>...</td>\n",
              "      <td>...</td>\n",
              "      <td>...</td>\n",
              "    </tr>\n",
              "    <tr>\n",
              "      <th>151</th>\n",
              "      <td>CNIP_LOCUS15840</td>\n",
              "      <td>PHD</td>\n",
              "      <td>—</td>\n",
              "    </tr>\n",
              "    <tr>\n",
              "      <th>152</th>\n",
              "      <td>CNIP_LOCUS15889</td>\n",
              "      <td>JmjC</td>\n",
              "      <td>—</td>\n",
              "    </tr>\n",
              "    <tr>\n",
              "      <th>153</th>\n",
              "      <td>CNIP_LOCUS15890</td>\n",
              "      <td>JmjC</td>\n",
              "      <td>—</td>\n",
              "    </tr>\n",
              "    <tr>\n",
              "      <th>154</th>\n",
              "      <td>CNIP_LOCUS16031</td>\n",
              "      <td>PHD</td>\n",
              "      <td>—</td>\n",
              "    </tr>\n",
              "    <tr>\n",
              "      <th>155</th>\n",
              "      <td>CNIP_LOCUS16134</td>\n",
              "      <td>SIR2</td>\n",
              "      <td>—</td>\n",
              "    </tr>\n",
              "  </tbody>\n",
              "</table>\n",
              "<p>156 rows × 3 columns</p>\n",
              "</div>"
            ]
          },
          "metadata": {},
          "execution_count": 18
        }
      ]
    },
    {
      "cell_type": "code",
      "source": [
        "df.to_csv(\"Cniphades_epigenetic.csv\", index=False)"
      ],
      "metadata": {
        "id": "ki082yJAyKj5"
      },
      "execution_count": 19,
      "outputs": []
    },
    {
      "cell_type": "markdown",
      "source": [
        "# Поиск Z-ДНК"
      ],
      "metadata": {
        "id": "SEmspK9m5QJr"
      }
    },
    {
      "cell_type": "markdown",
      "source": [
        "## Z-hunt"
      ],
      "metadata": {
        "id": "RnQoWAON5c76"
      }
    },
    {
      "cell_type": "code",
      "source": [
        "!./zhunt 12 8 12 C_niphades_genome.fasta"
      ],
      "metadata": {
        "id": "TcmLp8rb4K6C"
      },
      "execution_count": null,
      "outputs": []
    },
    {
      "cell_type": "code",
      "source": [
        "import pandas as pd, pybedtools\n",
        "\n",
        "# читаем, пропуская заголовки\n",
        "df = pd.read_csv(\"C_niphades_genome.fasta.Z-SCORE\",\n",
        "                 comment=\"#\", sep=r\"\\s+\", header=None,\n",
        "                 names=[\"index\",\"start\",\"length\",\"E\",\"misc\",\"zscore\",\n",
        "                        \"run\",\"mask\"])\n",
        "\n",
        "# вычисляем конец окна\n",
        "df[\"end\"] = df[\"start\"] + df[\"length\"] - 1\n",
        "contig_name = \"CAMPFS010000001\"\n",
        "df[\"contig\"] = contig_name\n",
        "\n",
        "z_bed = pybedtools.BedTool.from_dataframe(\n",
        "            df[[\"contig\",\"start\",\"end\",\"zscore\"]])\n",
        "z_bed.saveas(\"ZDNA_sites.bed\")"
      ],
      "metadata": {
        "id": "v_Gge3d1soQo"
      },
      "execution_count": null,
      "outputs": []
    },
    {
      "cell_type": "code",
      "source": [
        "import pandas as pd, pybedtools\n",
        "\n",
        "# читаем файл, превращая недопустимые значения в NaN\n",
        "df = pd.read_csv(\n",
        "    \"ZDNA_sites.bed\",\n",
        "    sep=\"\\t\",\n",
        "    names=[\"chrom\", \"start\", \"end\", \"z\"],\n",
        "    dtype={\"chrom\": str, \"start\": int, \"end\": int, \"z\": str},\n",
        "    comment=\"#\",\n",
        "    low_memory=False\n",
        ")\n",
        "\n",
        "# безопасно переводим 'z' в float; всё нечисловое → NaN\n",
        "df[\"z\"] = pd.to_numeric(df[\"z\"], errors=\"coerce\")\n",
        "\n",
        "# отбрасываем строки без Z-score\n",
        "df = df.dropna(subset=[\"z\"])\n",
        "\n",
        "# фильтр ≥ 500\n",
        "strong = df[df[\"z\"] >= 400]\n",
        "\n",
        "# сохраняем\n",
        "strong.to_csv(\"ZDNA_strong.bed\", sep=\"\\t\", header=False, index=False)\n",
        "print(\"сильных окон:\", len(strong))"
      ],
      "metadata": {
        "id": "2iYBFUacLpy-",
        "colab": {
          "base_uri": "https://localhost:8080/"
        },
        "outputId": "3feab1a9-520e-4d5e-f4e2-a27848885d71"
      },
      "execution_count": 1,
      "outputs": [
        {
          "output_type": "stream",
          "name": "stdout",
          "text": [
            "сильных окон: 283371\n"
          ]
        }
      ]
    },
    {
      "cell_type": "code",
      "source": [
        "import pybedtools, pandas as pd\n",
        "\n",
        "# читаем сильные окна\n",
        "strong = pybedtools.BedTool(\"ZDNA_strong.bed\")\n",
        "\n",
        "# сортируем и объединяем (merge)\n",
        "merged = strong.sort().merge()\n",
        "\n",
        "merged.saveas(\"ZDNA_regions.bed\")\n",
        "print(\"неповторяющихся Z-участков:\", merged.count())"
      ],
      "metadata": {
        "id": "nzIQgH1-dqV2",
        "colab": {
          "base_uri": "https://localhost:8080/"
        },
        "outputId": "4feac352-4b36-48cd-fa71-bb0ae896c839"
      },
      "execution_count": 2,
      "outputs": [
        {
          "output_type": "stream",
          "name": "stdout",
          "text": [
            "неповторяющихся Z-участков: 32114\n"
          ]
        }
      ]
    },
    {
      "cell_type": "code",
      "source": [
        "%%bash\n",
        "for f in genes.bed exons.bed introns.bed promoters.bed downstream.bed; do\n",
        "  echo -n \"$f: \"\n",
        "  wc -l < \"$f\"\n",
        "done"
      ],
      "metadata": {
        "id": "ADefBzZWfamL"
      },
      "execution_count": null,
      "outputs": []
    },
    {
      "cell_type": "markdown",
      "source": [
        "## ZDNABED и квадруплексы"
      ],
      "metadata": {
        "id": "kQBcD_xSCiRx"
      }
    },
    {
      "cell_type": "code",
      "source": [
        "model = 'HG kouzine' #@param [\"HG chipseq\", \"HG kouzine\", \"MM chipseq\", \"MM kouzine\"]\n",
        "model_confidence_threshold = 0.5 #@param {type:\"number\"}\n",
        "minimum_sequence_length = 10 #@param {type:\"integer\"}\n",
        "\n",
        "if model == 'HG chipseq':\n",
        "    model_id = '1VAsp8I904y_J0PUhAQqpSlCn1IqfG0FB'\n",
        "elif model == 'HG kouzine':\n",
        "    model_id = '1dAeAt5Gu2cadwDhbc7OnenUgDLHlUvkx'\n",
        "elif model == 'MM curax':\n",
        "    model_id = '1W6GEgHNoitlB-xXJbLJ_jDW4BF35W1Sd'\n",
        "elif model == 'MM kouzine':\n",
        "    model_id = '1dXpQFmheClKXIEoqcZ7kgCwx6hzVCv3H'"
      ],
      "metadata": {
        "id": "hFWvHHMbCkcl"
      },
      "execution_count": null,
      "outputs": []
    },
    {
      "cell_type": "code",
      "source": [
        "from transformers import BertTokenizer, BertForTokenClassification\n",
        "!gdown $model_id\n",
        "!gdown 10sF8Ywktd96HqAL0CwvlZZUUGj05CGk5\n",
        "!gdown 16bT7HDv71aRwyh3gBUbKwign1mtyLD2d\n",
        "!gdown 1EE9goZ2JRSD8UTx501q71lGCk-CK3kqG\n",
        "!gdown 1gZZdtAoDnDiLQqjQfGyuwt268Pe5sXW0\n",
        "\n",
        "\n",
        "!mkdir 6-new-12w-0\n",
        "!mv pytorch_model.bin 6-new-12w-0/\n",
        "!mv config.json 6-new-12w-0/\n",
        "!mv special_tokens_map.json 6-new-12w-0/\n",
        "!mv tokenizer_config.json 6-new-12w-0/\n",
        "!mv vocab.txt 6-new-12w-0/\n",
        "\n",
        "tokenizer = BertTokenizer.from_pretrained('6-new-12w-0/')\n",
        "model = BertForTokenClassification.from_pretrained('6-new-12w-0/')\n",
        "model.cuda()"
      ],
      "metadata": {
        "colab": {
          "base_uri": "https://localhost:8080/"
        },
        "id": "6Orqb4ErC0VT",
        "outputId": "e63148b9-46dd-49d1-a47f-2705f46b1c00"
      },
      "execution_count": null,
      "outputs": [
        {
          "output_type": "stream",
          "name": "stdout",
          "text": [
            "Downloading...\n",
            "From (original): https://drive.google.com/uc?id=1dAeAt5Gu2cadwDhbc7OnenUgDLHlUvkx\n",
            "From (redirected): https://drive.google.com/uc?id=1dAeAt5Gu2cadwDhbc7OnenUgDLHlUvkx&confirm=t&uuid=d999c972-47f7-4833-9b2a-6ae53445687d\n",
            "To: /content/pytorch_model.bin\n",
            "100% 354M/354M [00:02<00:00, 165MB/s]\n",
            "Downloading...\n",
            "From: https://drive.google.com/uc?id=10sF8Ywktd96HqAL0CwvlZZUUGj05CGk5\n",
            "To: /content/config.json\n",
            "100% 634/634 [00:00<00:00, 3.52MB/s]\n",
            "Downloading...\n",
            "From: https://drive.google.com/uc?id=16bT7HDv71aRwyh3gBUbKwign1mtyLD2d\n",
            "To: /content/special_tokens_map.json\n",
            "100% 112/112 [00:00<00:00, 569kB/s]\n",
            "Downloading...\n",
            "From: https://drive.google.com/uc?id=1EE9goZ2JRSD8UTx501q71lGCk-CK3kqG\n",
            "To: /content/tokenizer_config.json\n",
            "100% 40.0/40.0 [00:00<00:00, 226kB/s]\n",
            "Downloading...\n",
            "From: https://drive.google.com/uc?id=1gZZdtAoDnDiLQqjQfGyuwt268Pe5sXW0\n",
            "To: /content/vocab.txt\n",
            "100% 28.7k/28.7k [00:00<00:00, 67.7MB/s]\n"
          ]
        },
        {
          "output_type": "execute_result",
          "data": {
            "text/plain": [
              "BertForTokenClassification(\n",
              "  (bert): BertModel(\n",
              "    (embeddings): BertEmbeddings(\n",
              "      (word_embeddings): Embedding(4101, 768, padding_idx=0)\n",
              "      (position_embeddings): Embedding(512, 768)\n",
              "      (token_type_embeddings): Embedding(2, 768)\n",
              "      (LayerNorm): LayerNorm((768,), eps=1e-12, elementwise_affine=True)\n",
              "      (dropout): Dropout(p=0.1, inplace=False)\n",
              "    )\n",
              "    (encoder): BertEncoder(\n",
              "      (layer): ModuleList(\n",
              "        (0-11): 12 x BertLayer(\n",
              "          (attention): BertAttention(\n",
              "            (self): BertSdpaSelfAttention(\n",
              "              (query): Linear(in_features=768, out_features=768, bias=True)\n",
              "              (key): Linear(in_features=768, out_features=768, bias=True)\n",
              "              (value): Linear(in_features=768, out_features=768, bias=True)\n",
              "              (dropout): Dropout(p=0.1, inplace=False)\n",
              "            )\n",
              "            (output): BertSelfOutput(\n",
              "              (dense): Linear(in_features=768, out_features=768, bias=True)\n",
              "              (LayerNorm): LayerNorm((768,), eps=1e-12, elementwise_affine=True)\n",
              "              (dropout): Dropout(p=0.1, inplace=False)\n",
              "            )\n",
              "          )\n",
              "          (intermediate): BertIntermediate(\n",
              "            (dense): Linear(in_features=768, out_features=3072, bias=True)\n",
              "            (intermediate_act_fn): GELUActivation()\n",
              "          )\n",
              "          (output): BertOutput(\n",
              "            (dense): Linear(in_features=3072, out_features=768, bias=True)\n",
              "            (LayerNorm): LayerNorm((768,), eps=1e-12, elementwise_affine=True)\n",
              "            (dropout): Dropout(p=0.1, inplace=False)\n",
              "          )\n",
              "        )\n",
              "      )\n",
              "    )\n",
              "  )\n",
              "  (dropout): Dropout(p=0.1, inplace=False)\n",
              "  (classifier): Linear(in_features=768, out_features=2, bias=True)\n",
              ")"
            ]
          },
          "metadata": {},
          "execution_count": 9
        }
      ]
    },
    {
      "cell_type": "code",
      "source": [
        "from typing import List, Dict\n",
        "import numpy as np\n",
        "from tqdm.auto import tqdm\n",
        "from pathlib import Path\n",
        "from Bio import SeqIO, Seq\n",
        "import torch\n",
        "import re\n",
        "\n",
        "K            = 6         # длина к-мера\n",
        "WIN          = 512       # длина блока (к-меров) -> модель\n",
        "PAD          = 16        # перекрытие между блоками\n",
        "THR          = 0.90      # порог вероятности «Z-DNA»\n",
        "MIN_ZLEN_NT  = 6         # мин. длина участка (нуклеотидов)\n",
        "GAP_Z        = 20        # ≤ GAP_Z bp -> сольётся при post-обработке\n",
        "GAP_G4       = 10        # для G-квадруплексов\n",
        "OUT_DIR      = Path(\"results\")\n",
        "FASTA        = Path(\"C_niphades_genome.fna\")\n",
        "device     = torch.device(\"cuda\")\n",
        "\n",
        "def kmers(seq: str, k: int = K) -> List[str]:\n",
        "    return [seq[i:i+k] for i in range(len(seq)-k+1)]\n",
        "\n",
        "def chunk(lst: List[str], size: int = WIN, pad: int = PAD) -> List[List[str]]:\n",
        "    step = size - pad\n",
        "    return [lst[i:i+size] for i in range(0, len(lst), step)]\n",
        "\n",
        "def stitch(pred_blocks: List[np.ndarray], pad: int = PAD) -> np.ndarray:\n",
        "    if not pred_blocks: return np.array([])\n",
        "    out = pred_blocks[0].copy()\n",
        "    for block in pred_blocks[1:]:\n",
        "        overlap = min(pad, len(out))\n",
        "        out = np.concatenate([out[:-overlap], block])\n",
        "    return out\n",
        "\n",
        "def scan_zdnabert(seq: str) -> List[Dict[str,int]]:\n",
        "    \"\"\"Возвращает список {'start':, 'end':} (0-based, end-exclusive).\"\"\"\n",
        "    seq = seq.upper().replace(\"N\",\"A\")\n",
        "    km  = kmers(seq)\n",
        "    blocks = chunk(km)\n",
        "    preds  = []\n",
        "    with torch.inference_mode():\n",
        "        for b in tqdm(blocks):\n",
        "            toks   = tokenizer(\" \".join(b),\n",
        "                               add_special_tokens=False,\n",
        "                               return_tensors=\"pt\").to(device)\n",
        "            p_zdna = model(**toks).logits.softmax(-1)[0,:,1]\n",
        "            preds.append(p_zdna.cpu().numpy())\n",
        "    probs   = stitch(preds)\n",
        "    mask    = probs >= THR\n",
        "    labeled, n = ndi.label(mask)\n",
        "    min_kmers  = max(1, MIN_ZLEN_NT - K + 1)\n",
        "    hits=[]\n",
        "    for lbl in range(1, n+1):\n",
        "        idx = np.where(labeled == lbl)[0]\n",
        "        if len(idx) >= min_kmers:\n",
        "            hits.append({\"start\": idx[0],\n",
        "                         \"end\":   idx[-1] + K})\n",
        "    return hits\n",
        "\n",
        "G4_RE = re.compile(r'(?=(G{3,5}[ATGC]{1,7}){3,}G{3,5})', re.I)\n",
        "def rev_comp(s: str) -> str:\n",
        "    return str(Seq.Seq(s).reverse_complement())\n",
        "def scan_g4(seq: str) -> List[Dict[str,int]]:\n",
        "    seq = seq.upper()\n",
        "    hits=[{\"start\": m.start(), \"end\": m.end()} for m in G4_RE.finditer(seq)]\n",
        "    rc  = rev_comp(seq)\n",
        "    hits += [{\"start\": len(seq)-m.end(), \"end\": len(seq)-m.start()}\n",
        "             for m in G4_RE.finditer(rc)]\n",
        "    return hits\n",
        "with open(f\"{OUT_DIR}/zdnabert_regions.bed\",\"w\") as f_z, \\\n",
        "     open(f\"{OUT_DIR}/g4_regions.bed\",\"w\")        as f_gq:\n",
        "\n",
        "    for rec in tqdm(list(SeqIO.parse(FASTA, \"fasta\")), desc=\"Scanning genome\"):\n",
        "        chrom = rec.id\n",
        "        seq   = str(rec.seq)\n",
        "\n",
        "        for h in scan_zdnabert(seq):\n",
        "            f_z.write(f\"{chrom}\\t{h['start']}\\t{h['end']}\\n\")\n",
        "        for h in scan_g4(seq):\n",
        "            f_gq.write(f\"{chrom}\\t{h['start']}\\t{h['end']}\\n\")\n",
        "\n"
      ],
      "metadata": {
        "colab": {
          "base_uri": "https://localhost:8080/",
          "height": 81,
          "referenced_widgets": [
            "369bdd06ddb840ccacf04a2e65c9f4b0",
            "0071243b9b1345a4ae56cf7826e34149",
            "1d6b114522fb4747a77d433089826546",
            "abcc4078bf454a5d98adf9302c445919",
            "0908bc9b40cb4f8e9d7135a71f372b72",
            "560e026a58214242b683f7788183f33c",
            "f8a9b7dca9514ab599251b5bdff6b520",
            "854ea888f79b4ffdad3b2dff664edd8c",
            "fd0b155ca1fe4adb87a965611a3bea48",
            "4da3847375a14ae79f7643a8cf03d831",
            "2943a00d6d9642728f0dc3c82ce3a94e",
            "e61f93079909471397679226d0b9fb39",
            "8cdd59cd2ca94f219571e14756400e38",
            "d642fddb1fca4f558b6a8396f8e4a61f",
            "1e311624186d46fea41b172ff5bcef0a",
            "d8386262d8db4db5980a5ebe878d2371",
            "1a33f3fbc92747af9078828b42b0ab90",
            "013ffb49740149619527ed8fb68dfc4c",
            "b8b8da29adf444a29c43312b707918cb",
            "f4f42eb402f844dfba65d01c5a91b138",
            "b77a1d6b1ecb4e6cb9a319ad2aeb2652",
            "48aacba29508496b8363799afbc71d67"
          ]
        },
        "id": "jm9EmPsHDK1q",
        "outputId": "e685ac0a-a123-4d02-f389-b431767eb9cc"
      },
      "execution_count": null,
      "outputs": [
        {
          "output_type": "display_data",
          "data": {
            "text/plain": [
              "Scanning genome:   0%|          | 0/10 [00:00<?, ?it/s]"
            ],
            "application/vnd.jupyter.widget-view+json": {
              "version_major": 2,
              "version_minor": 0,
              "model_id": "369bdd06ddb840ccacf04a2e65c9f4b0"
            }
          },
          "metadata": {}
        },
        {
          "output_type": "display_data",
          "data": {
            "text/plain": [
              "  0%|          | 0/18938 [00:00<?, ?it/s]"
            ],
            "application/vnd.jupyter.widget-view+json": {
              "version_major": 2,
              "version_minor": 0,
              "model_id": "e61f93079909471397679226d0b9fb39"
            }
          },
          "metadata": {}
        }
      ]
    },
    {
      "cell_type": "code",
      "source": [],
      "metadata": {
        "id": "orgBrIQX5CN4"
      },
      "execution_count": null,
      "outputs": []
    },
    {
      "cell_type": "markdown",
      "source": [
        "# Построение таблицы"
      ],
      "metadata": {
        "id": "jClEUSBn9RiK"
      }
    },
    {
      "cell_type": "code",
      "source": [
        "import pathlib\n",
        "from tqdm.auto import tqdm\n",
        "import collections\n",
        "import pandas as pd\n",
        "\n",
        "\n",
        "root = pathlib.Path(\".\")\n",
        "\n",
        "gff = pd.read_table(\n",
        "   \"C_niphades_annotation.gff\",\n",
        "    comment=\"#\",\n",
        "    names=[\"Chrom\",\"Source\",\"Feature\",\"Start\",\"End\",\"Score\",\"Strand\",\"Phase\",\"Attr\"]\n",
        ")\n",
        "fai = pd.read_table(\n",
        "    \"C_niphades_genome.fna.fai\",\n",
        "    names=[\"Chrom\",\"Length\",\"offset\",\"line_bases\",\"line_width\"]\n",
        ")\n",
        "\n",
        "def read_bed(path):\n",
        "    df = pd.read_table(path, header=None)\n",
        "    df.columns = [\"Chrom\",\"Start\",\"End\",\"Name\",\"Score\",\"Strand\"][: df.shape[1]]\n",
        "    return df[[\"Chrom\",\"Start\",\"End\"]]\n",
        "\n",
        "g4       = read_bed(\"g4_regions.bed\")\n",
        "zhunt    = read_bed(\"ZDNA_regions.bed\")\n",
        "zdnabert = read_bed(\"zdnabert_regions.bed\")\n",
        "\n",
        "def norm(df):\n",
        "    df = df.copy()\n",
        "    df[\"Chrom\"] = df[\"Chrom\"].astype(str).str.replace(r\"\\.1$\", \"\", regex=True)\n",
        "    return df\n",
        "\n",
        "for obj in (gff, fai, g4, zhunt, zdnabert):\n",
        "    obj[\"Chrom\"] = obj[\"Chrom\"].astype(str).str.replace(r\"\\.1$\", \"\", regex=True)\n",
        "\n",
        "exons = gff.query(\"Feature == 'exon'\")[[\"Chrom\",\"Start\",\"End\",\"Strand\"]].copy()\n",
        "tx    = gff.query(\"Feature == 'mRNA'\")[[\"Chrom\",\"Start\",\"End\",\"Strand\"]].copy()\n",
        "if tx.empty:\n",
        "    tx = gff.query(\"Feature == 'transcript'\")[[\"Chrom\",\"Start\",\"End\",\"Strand\"]].copy()\n",
        "\n",
        "introns = []\n",
        "exon_grp = exons.groupby([\"Chrom\",\"Strand\"])\n",
        "for (chrom, strand), t in tqdm(tx.groupby([\"Chrom\",\"Strand\"]), desc=\"интроны\"):\n",
        "    exs = exon_grp.get_group((chrom, strand)).sort_values(\"Start\")\n",
        "    for _, tr in t.iterrows():\n",
        "        cur = tr.Start\n",
        "        inside = exs[(exs.Start >= tr.Start) & (exs.End <= tr.End)]\n",
        "        for _, e in inside.iterrows():\n",
        "            if e.Start > cur:\n",
        "                introns.append((chrom, cur, e.Start))\n",
        "            cur = max(cur, e.End)\n",
        "        if cur < tr.End:\n",
        "            introns.append((chrom, cur, tr.End))\n",
        "introns = pd.DataFrame(introns, columns=[\"Chrom\",\"Start\",\"End\"])\n",
        "\n",
        "def flank(df, up, down):\n",
        "    plus  = df.Strand == \"+\"\n",
        "    minus = ~plus\n",
        "    out   = df.copy()\n",
        "    out.loc[plus,  [\"End\"]]   = df.loc[plus, \"Start\"] + down\n",
        "    out.loc[plus,  [\"Start\"]] = df.loc[plus, \"Start\"] - up\n",
        "    out.loc[minus, [\"Start\"]] = df.loc[minus, \"End\"] - down\n",
        "    out.loc[minus, [\"End\"]]   = df.loc[minus, \"End\"] + up\n",
        "    out.loc[out.Start < 0, \"Start\"] = 0\n",
        "    return out[[\"Chrom\",\"Start\",\"End\"]]\n",
        "\n",
        "promoters  = flank(tx, up=1000, down=0)\n",
        "downstream = flank(tx, up=0,    down=200)\n",
        "\n",
        "def complement(chrom_sizes, intervals):\n",
        "    gaps = []\n",
        "    for chrom, length in chrom_sizes.items():\n",
        "        iv = intervals.query(\"Chrom == @chrom\").sort_values(\"Start\")[[\"Start\",\"End\"]].values\n",
        "        pos = 0\n",
        "        for s, e in iv:\n",
        "            if s > pos:\n",
        "                gaps.append((chrom, pos, s))\n",
        "            pos = max(pos, e)\n",
        "        if pos < length:\n",
        "            gaps.append((chrom, pos, length))\n",
        "    return pd.DataFrame(gaps, columns=[\"Chrom\",\"Start\",\"End\"])\n",
        "\n",
        "intergenic = complement(fai.set_index(\"Chrom\")[\"Length\"], tx)\n",
        "\n",
        "regions = collections.OrderedDict([\n",
        "    (\"Exons\",      exons[[\"Chrom\",\"Start\",\"End\"]]),\n",
        "    (\"Introns\",    introns),\n",
        "    (\"Promoters\",  promoters),\n",
        "    (\"Downstream\", downstream),\n",
        "    (\"Intergenic\", intergenic)\n",
        "])\n",
        "\n",
        "def motif_hits(reg, motifs):\n",
        "    if reg.empty or motifs.empty:\n",
        "        return 0\n",
        "    r = reg.reset_index(drop=True).reset_index(names=\"rid\")\n",
        "    m = motifs.reset_index(drop=True).reset_index(names=\"mid\")\n",
        "\n",
        "    j = r.merge(m, on=\"Chrom\", suffixes=(\"_r\", \"_m\"))\n",
        "    ov = j.query(\"Start_r < End_m and End_r > Start_m\")\n",
        "    return ov[\"mid\"].nunique()\n",
        "\n",
        "def regions_with(reg, motifs):\n",
        "    if reg.empty or motifs.empty:\n",
        "        return 0\n",
        "    r = reg.reset_index(drop=True).reset_index(names=\"rid\")\n",
        "    m = motifs.reset_index(drop=True).reset_index(names=\"mid\")\n",
        "\n",
        "    j = r.merge(m, on=\"Chrom\", suffixes=(\"_r\", \"_m\"))\n",
        "    ov = j.query(\"Start_r < End_m and End_r > Start_m\")\n",
        "    return ov[\"rid\"].nunique()\n",
        "\n",
        "\n",
        "tot_g4, tot_zh, tot_zb = map(len, (g4, zhunt, zdnabert))\n",
        "\n",
        "t1, t2 = [], []\n",
        "for name, reg in tqdm(regions.items(), desc=\"таблицы\"):\n",
        "    g4n = motif_hits(reg, g4)\n",
        "    zhn = motif_hits(reg, zhunt)\n",
        "    zbn = motif_hits(reg, zdnabert)\n",
        "    t1.append([name, g4n, g4n / tot_g4, zhn, zhn / tot_zh, zbn, zbn / tot_zb])\n",
        "\n",
        "    g4r = regions_with(reg, g4)\n",
        "    zhr = regions_with(reg, zhunt)\n",
        "    zbr = regions_with(reg, zdnabert)\n",
        "    total = len(reg)\n",
        "    t2.append([name, g4r, g4r / total if total else 0,\n",
        "                     zhr, zhr / total if total else 0,\n",
        "                     zbr, zbr / total if total else 0])\n",
        "\n",
        "table1 = pd.DataFrame(t1, columns=[\n",
        "    \"Участок\", \"Число G4\", \"Доля G4\",\n",
        "    \"Число ZHunt\", \"Доля ZHunt\",\n",
        "    \"Число ZDNABERT\", \"Доля ZDNABERT\"\n",
        "])\n",
        "\n",
        "table2 = pd.DataFrame(t2, columns=[\n",
        "    \"Участок\", \"Регионов с G4\", \"Доля регионов с G4\",\n",
        "    \"Регионов с ZHunt\", \"Доля регионов с ZHunt\",\n",
        "    \"Регионов с ZDNABERT\", \"Доля регионов с ZDNABERT\"\n",
        "])\n",
        "\n",
        "pd.options.display.float_format = \"{:.2%}\".format"
      ],
      "metadata": {
        "colab": {
          "base_uri": "https://localhost:8080/",
          "height": 295,
          "referenced_widgets": [
            "5dc94adf7b6f4b67aaf8e635e92a4a3d",
            "8007c5249eae482aa9892a80ffc6cbc8",
            "ca7c4a57a80246d983c4bcac27b8fbad",
            "cc1296a4f4424c0a9c4d51d9d99a1472",
            "02d4dcf663f246aca120bbe350c5a54a",
            "e333412d9e954493b5279d2d3db80ef1",
            "96cb0b437eab4bd6a9769228e0def714",
            "98471727f46e4e02aa982eeba635954e",
            "c8738f2e93d54ae99ddf98d0d4b97273",
            "92f919bf5ed1445b86541c4366266db6",
            "e74c496b5f974c689debbfb854ac043c",
            "b11e36888272491e9e1337fcf89377e3",
            "c8fa93c755da41758b07d1d97cf75661",
            "423a1f49ae9f483898e53b0e5812e65e",
            "11ff85a9d9004519b0c0ea55d0a4364b",
            "45832271f4eb4e1fa07476fc0dc3a38f",
            "636874694ed742f381fe5bb84804bef4",
            "f935966a5ba340d0a57dcecbb80ed0c4",
            "ec07bfcab45c4d7eba2058774ce995b9",
            "0ec4351234ab474ca118a22ab865aa87",
            "ee01bf367aa4497eb355d8075003e504",
            "0c0fecf82c2a43e9b6698afca50750e7"
          ]
        },
        "id": "o8uc7VPv9VAy",
        "outputId": "4b53d540-f61a-4918-dba3-e1df6abfae1f"
      },
      "execution_count": 3,
      "outputs": [
        {
          "output_type": "display_data",
          "data": {
            "text/plain": [
              "интроны:   0%|          | 0/19 [00:00<?, ?it/s]"
            ],
            "application/vnd.jupyter.widget-view+json": {
              "version_major": 2,
              "version_minor": 0,
              "model_id": "5dc94adf7b6f4b67aaf8e635e92a4a3d"
            }
          },
          "metadata": {}
        },
        {
          "output_type": "display_data",
          "data": {
            "text/plain": [
              "таблицы:   0%|          | 0/5 [00:00<?, ?it/s]"
            ],
            "application/vnd.jupyter.widget-view+json": {
              "version_major": 2,
              "version_minor": 0,
              "model_id": "b11e36888272491e9e1337fcf89377e3"
            }
          },
          "metadata": {}
        },
        {
          "output_type": "stream",
          "name": "stdout",
          "text": [
            "\n",
            "=== Таблица 1 (мотивы в регионах) ===\n",
            "   Участок  Число G4  Доля G4  Число ZHunt  Доля ZHunt  Число ZDNABERT  Доля ZDNABERT\n",
            "     Exons      1603   42.33%         4168      12.98%           14596         69.84%\n",
            "   Introns         0    0.00%            0       0.00%               0          0.00%\n",
            " Promoters      1098   28.99%         1393       4.34%            4871         23.31%\n",
            "Downstream        55    1.45%          285       0.89%            1082          5.18%\n",
            "Intergenic      2184   57.67%         1883       5.86%            6347         30.37%\n",
            "\n",
            "=== Таблица 2 (регионы с мотивом) ===\n",
            "   Участок  Регионов с G4  Доля регионов с G4  Регионов с ZHunt  Доля регионов с ZHunt  Регионов с ZDNABERT  Доля регионов с ZDNABERT\n",
            "     Exons            651               3.99%              1492                  9.16%                 6198                    38.03%\n",
            "   Introns              0               0.00%                 0                  0.00%                    0                     0.00%\n",
            " Promoters            555               3.41%              1146                  7.03%                 3641                    22.34%\n",
            "Downstream             34               0.21%               267                  1.64%                  837                     5.14%\n",
            "Intergenic            883               5.42%               906                  5.56%                 3006                    18.43%\n"
          ]
        }
      ]
    },
    {
      "cell_type": "code",
      "source": [
        "table1"
      ],
      "metadata": {
        "colab": {
          "base_uri": "https://localhost:8080/",
          "height": 206
        },
        "id": "Ea5R07qACrka",
        "outputId": "c9ad6ba3-2503-461c-ef5f-c00b74ed89a2"
      },
      "execution_count": 4,
      "outputs": [
        {
          "output_type": "execute_result",
          "data": {
            "text/plain": [
              "      Участок  Число G4  Доля G4  Число ZHunt  Доля ZHunt  Число ZDNABERT  \\\n",
              "0       Exons      1603   42.33%         4168      12.98%           14596   \n",
              "1     Introns         0    0.00%            0       0.00%               0   \n",
              "2   Promoters      1098   28.99%         1393       4.34%            4871   \n",
              "3  Downstream        55    1.45%          285       0.89%            1082   \n",
              "4  Intergenic      2184   57.67%         1883       5.86%            6347   \n",
              "\n",
              "   Доля ZDNABERT  \n",
              "0         69.84%  \n",
              "1          0.00%  \n",
              "2         23.31%  \n",
              "3          5.18%  \n",
              "4         30.37%  "
            ],
            "text/html": [
              "<div>\n",
              "<style scoped>\n",
              "    .dataframe tbody tr th:only-of-type {\n",
              "        vertical-align: middle;\n",
              "    }\n",
              "\n",
              "    .dataframe tbody tr th {\n",
              "        vertical-align: top;\n",
              "    }\n",
              "\n",
              "    .dataframe thead th {\n",
              "        text-align: right;\n",
              "    }\n",
              "</style>\n",
              "<table border=\"1\" class=\"dataframe\">\n",
              "  <thead>\n",
              "    <tr style=\"text-align: right;\">\n",
              "      <th></th>\n",
              "      <th>Участок</th>\n",
              "      <th>Число G4</th>\n",
              "      <th>Доля G4</th>\n",
              "      <th>Число ZHunt</th>\n",
              "      <th>Доля ZHunt</th>\n",
              "      <th>Число ZDNABERT</th>\n",
              "      <th>Доля ZDNABERT</th>\n",
              "    </tr>\n",
              "  </thead>\n",
              "  <tbody>\n",
              "    <tr>\n",
              "      <th>0</th>\n",
              "      <td>Exons</td>\n",
              "      <td>1603</td>\n",
              "      <td>42.33%</td>\n",
              "      <td>4168</td>\n",
              "      <td>12.98%</td>\n",
              "      <td>14596</td>\n",
              "      <td>69.84%</td>\n",
              "    </tr>\n",
              "    <tr>\n",
              "      <th>1</th>\n",
              "      <td>Introns</td>\n",
              "      <td>0</td>\n",
              "      <td>0.00%</td>\n",
              "      <td>0</td>\n",
              "      <td>0.00%</td>\n",
              "      <td>0</td>\n",
              "      <td>0.00%</td>\n",
              "    </tr>\n",
              "    <tr>\n",
              "      <th>2</th>\n",
              "      <td>Promoters</td>\n",
              "      <td>1098</td>\n",
              "      <td>28.99%</td>\n",
              "      <td>1393</td>\n",
              "      <td>4.34%</td>\n",
              "      <td>4871</td>\n",
              "      <td>23.31%</td>\n",
              "    </tr>\n",
              "    <tr>\n",
              "      <th>3</th>\n",
              "      <td>Downstream</td>\n",
              "      <td>55</td>\n",
              "      <td>1.45%</td>\n",
              "      <td>285</td>\n",
              "      <td>0.89%</td>\n",
              "      <td>1082</td>\n",
              "      <td>5.18%</td>\n",
              "    </tr>\n",
              "    <tr>\n",
              "      <th>4</th>\n",
              "      <td>Intergenic</td>\n",
              "      <td>2184</td>\n",
              "      <td>57.67%</td>\n",
              "      <td>1883</td>\n",
              "      <td>5.86%</td>\n",
              "      <td>6347</td>\n",
              "      <td>30.37%</td>\n",
              "    </tr>\n",
              "  </tbody>\n",
              "</table>\n",
              "</div>"
            ]
          },
          "metadata": {},
          "execution_count": 4
        }
      ]
    },
    {
      "cell_type": "code",
      "source": [
        "table2"
      ],
      "metadata": {
        "colab": {
          "base_uri": "https://localhost:8080/",
          "height": 206
        },
        "id": "JlD5OQmFCtJh",
        "outputId": "140002a1-5450-4526-a9b9-13c11f16cd0d"
      },
      "execution_count": 5,
      "outputs": [
        {
          "output_type": "execute_result",
          "data": {
            "text/plain": [
              "      Участок  Регионов с G4  Доля регионов с G4  Регионов с ZHunt  \\\n",
              "0       Exons            651               3.99%              1492   \n",
              "1     Introns              0               0.00%                 0   \n",
              "2   Promoters            555               3.41%              1146   \n",
              "3  Downstream             34               0.21%               267   \n",
              "4  Intergenic            883               5.42%               906   \n",
              "\n",
              "   Доля регионов с ZHunt  Регионов с ZDNABERT  Доля регионов с ZDNABERT  \n",
              "0                  9.16%                 6198                    38.03%  \n",
              "1                  0.00%                    0                     0.00%  \n",
              "2                  7.03%                 3641                    22.34%  \n",
              "3                  1.64%                  837                     5.14%  \n",
              "4                  5.56%                 3006                    18.43%  "
            ],
            "text/html": [
              "<div>\n",
              "<style scoped>\n",
              "    .dataframe tbody tr th:only-of-type {\n",
              "        vertical-align: middle;\n",
              "    }\n",
              "\n",
              "    .dataframe tbody tr th {\n",
              "        vertical-align: top;\n",
              "    }\n",
              "\n",
              "    .dataframe thead th {\n",
              "        text-align: right;\n",
              "    }\n",
              "</style>\n",
              "<table border=\"1\" class=\"dataframe\">\n",
              "  <thead>\n",
              "    <tr style=\"text-align: right;\">\n",
              "      <th></th>\n",
              "      <th>Участок</th>\n",
              "      <th>Регионов с G4</th>\n",
              "      <th>Доля регионов с G4</th>\n",
              "      <th>Регионов с ZHunt</th>\n",
              "      <th>Доля регионов с ZHunt</th>\n",
              "      <th>Регионов с ZDNABERT</th>\n",
              "      <th>Доля регионов с ZDNABERT</th>\n",
              "    </tr>\n",
              "  </thead>\n",
              "  <tbody>\n",
              "    <tr>\n",
              "      <th>0</th>\n",
              "      <td>Exons</td>\n",
              "      <td>651</td>\n",
              "      <td>3.99%</td>\n",
              "      <td>1492</td>\n",
              "      <td>9.16%</td>\n",
              "      <td>6198</td>\n",
              "      <td>38.03%</td>\n",
              "    </tr>\n",
              "    <tr>\n",
              "      <th>1</th>\n",
              "      <td>Introns</td>\n",
              "      <td>0</td>\n",
              "      <td>0.00%</td>\n",
              "      <td>0</td>\n",
              "      <td>0.00%</td>\n",
              "      <td>0</td>\n",
              "      <td>0.00%</td>\n",
              "    </tr>\n",
              "    <tr>\n",
              "      <th>2</th>\n",
              "      <td>Promoters</td>\n",
              "      <td>555</td>\n",
              "      <td>3.41%</td>\n",
              "      <td>1146</td>\n",
              "      <td>7.03%</td>\n",
              "      <td>3641</td>\n",
              "      <td>22.34%</td>\n",
              "    </tr>\n",
              "    <tr>\n",
              "      <th>3</th>\n",
              "      <td>Downstream</td>\n",
              "      <td>34</td>\n",
              "      <td>0.21%</td>\n",
              "      <td>267</td>\n",
              "      <td>1.64%</td>\n",
              "      <td>837</td>\n",
              "      <td>5.14%</td>\n",
              "    </tr>\n",
              "    <tr>\n",
              "      <th>4</th>\n",
              "      <td>Intergenic</td>\n",
              "      <td>883</td>\n",
              "      <td>5.42%</td>\n",
              "      <td>906</td>\n",
              "      <td>5.56%</td>\n",
              "      <td>3006</td>\n",
              "      <td>18.43%</td>\n",
              "    </tr>\n",
              "  </tbody>\n",
              "</table>\n",
              "</div>"
            ]
          },
          "metadata": {},
          "execution_count": 5
        }
      ]
    }
  ]
}